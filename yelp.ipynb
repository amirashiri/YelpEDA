{
  "nbformat": 4,
  "nbformat_minor": 0,
  "metadata": {
    "colab": {
      "name": "yelp.ipynb",
      "provenance": [],
      "collapsed_sections": [
        "LS1uG6LPmKxB",
        "37RuYp5J4X2G"
      ]
    },
    "kernelspec": {
      "name": "python3",
      "display_name": "Python 3"
    }
  },
  "cells": [
    {
      "cell_type": "code",
      "metadata": {
        "id": "IPIR6Fgnt5pA"
      },
      "source": [
        "import pandas as pd\r\n",
        "import numpy as np\r\n",
        "import seaborn as sns\r\n",
        "import matplotlib.pyplot as plt\r\n",
        "from pathlib import Path\r\n",
        "import json\r\n",
        "!pip install flat_table\r\n",
        "import flat_table\r\n",
        "from os.path import join\r\n",
        "from urllib.request import urlopen\r\n",
        "import pickle\r\n",
        "import ast\r\n",
        "from distutils.util import strtobool\r\n",
        "\r\n",
        "pd.set_option('max_rows', 100)\r\n",
        "pd.set_option('max_colwidth', 400)"
      ],
      "execution_count": null,
      "outputs": []
    },
    {
      "cell_type": "markdown",
      "metadata": {
        "id": "957HiTRf1gVo"
      },
      "source": [
        "## Read data"
      ]
    },
    {
      "cell_type": "code",
      "metadata": {
        "id": "tgbAlRjQWV67"
      },
      "source": [
        "### read the already-subset data from github\r\n",
        "url=\"http://raw.githubusercontent.com/ramiz11/Yelp-EDA/main/\"\r\n",
        "business = pickle.load(urlopen(join(url, 'business.pkl')))\r\n",
        "checkin = pickle.load(urlopen(join(url, 'checkin.pkl')))\r\n",
        "review = pickle.load(urlopen(join(url, 'review.pkl')))\r\n",
        "tip = pickle.load(urlopen(join(url, 'tip.pkl')))\r\n",
        "user = pickle.load(urlopen(join(url, 'user.pkl')))"
      ],
      "execution_count": null,
      "outputs": []
    },
    {
      "cell_type": "markdown",
      "metadata": {
        "id": "wIee8nDPLKlW"
      },
      "source": [
        "## Businesses"
      ]
    },
    {
      "cell_type": "markdown",
      "metadata": {
        "id": "XbVweOc7yHAY"
      },
      "source": [
        "### General Information"
      ]
    },
    {
      "cell_type": "markdown",
      "metadata": {
        "id": "JwfUnwntyLV-"
      },
      "source": [
        "##### Businesses should contain all Yelp restaurants in Cleveland. Let's verify:"
      ]
    },
    {
      "cell_type": "code",
      "metadata": {
        "colab": {
          "base_uri": "https://localhost:8080/"
        },
        "id": "87i_dC6vLZxe",
        "outputId": "052474ba-62ff-46cc-a173-7a5f1724debe"
      },
      "source": [
        "business.city.value_counts(dropna=False)"
      ],
      "execution_count": null,
      "outputs": [
        {
          "output_type": "execute_result",
          "data": {
            "text/plain": [
              "Cleveland    1550\n",
              "Name: city, dtype: int64"
            ]
          },
          "metadata": {
            "tags": []
          },
          "execution_count": 4
        }
      ]
    },
    {
      "cell_type": "markdown",
      "metadata": {
        "id": "ah5TSyqBMoaX"
      },
      "source": [
        "So we have 1550 Cleveland restaurants. What info do we have there?"
      ]
    },
    {
      "cell_type": "code",
      "metadata": {
        "colab": {
          "base_uri": "https://localhost:8080/"
        },
        "id": "M_fS1O_IMQfZ",
        "outputId": "d8cf10b7-08be-476d-a38b-059e6f0dd975"
      },
      "source": [
        "business.info()"
      ],
      "execution_count": null,
      "outputs": [
        {
          "output_type": "stream",
          "text": [
            "<class 'pandas.core.frame.DataFrame'>\n",
            "Int64Index: 1550 entries, 41 to 209221\n",
            "Data columns (total 14 columns):\n",
            " #   Column        Non-Null Count  Dtype  \n",
            "---  ------        --------------  -----  \n",
            " 0   business_id   1550 non-null   object \n",
            " 1   name          1550 non-null   object \n",
            " 2   address       1550 non-null   object \n",
            " 3   city          1550 non-null   object \n",
            " 4   state         1550 non-null   object \n",
            " 5   postal_code   1550 non-null   object \n",
            " 6   latitude      1550 non-null   float64\n",
            " 7   longitude     1550 non-null   float64\n",
            " 8   stars         1550 non-null   float64\n",
            " 9   review_count  1550 non-null   int64  \n",
            " 10  is_open       1550 non-null   int64  \n",
            " 11  attributes    1508 non-null   object \n",
            " 12  categories    1550 non-null   object \n",
            " 13  hours         1187 non-null   object \n",
            "dtypes: float64(3), int64(2), object(9)\n",
            "memory usage: 181.6+ KB\n"
          ],
          "name": "stdout"
        }
      ]
    },
    {
      "cell_type": "markdown",
      "metadata": {
        "id": "iPvUfOkPM2uO"
      },
      "source": [
        "Take a look at *the* numerical columns"
      ]
    },
    {
      "cell_type": "code",
      "metadata": {
        "colab": {
          "base_uri": "https://localhost:8080/",
          "height": 294
        },
        "id": "i11l_icDMYbf",
        "outputId": "a59db692-e728-4dff-f30a-40199164f459"
      },
      "source": [
        "business.describe()"
      ],
      "execution_count": null,
      "outputs": [
        {
          "output_type": "execute_result",
          "data": {
            "text/html": [
              "<div>\n",
              "<style scoped>\n",
              "    .dataframe tbody tr th:only-of-type {\n",
              "        vertical-align: middle;\n",
              "    }\n",
              "\n",
              "    .dataframe tbody tr th {\n",
              "        vertical-align: top;\n",
              "    }\n",
              "\n",
              "    .dataframe thead th {\n",
              "        text-align: right;\n",
              "    }\n",
              "</style>\n",
              "<table border=\"1\" class=\"dataframe\">\n",
              "  <thead>\n",
              "    <tr style=\"text-align: right;\">\n",
              "      <th></th>\n",
              "      <th>latitude</th>\n",
              "      <th>longitude</th>\n",
              "      <th>stars</th>\n",
              "      <th>review_count</th>\n",
              "      <th>is_open</th>\n",
              "    </tr>\n",
              "  </thead>\n",
              "  <tbody>\n",
              "    <tr>\n",
              "      <th>count</th>\n",
              "      <td>1550.000000</td>\n",
              "      <td>1550.000000</td>\n",
              "      <td>1550.000000</td>\n",
              "      <td>1550.000000</td>\n",
              "      <td>1550.000000</td>\n",
              "    </tr>\n",
              "    <tr>\n",
              "      <th>mean</th>\n",
              "      <td>41.480909</td>\n",
              "      <td>-81.680846</td>\n",
              "      <td>3.491935</td>\n",
              "      <td>60.412258</td>\n",
              "      <td>0.693548</td>\n",
              "    </tr>\n",
              "    <tr>\n",
              "      <th>std</th>\n",
              "      <td>0.039813</td>\n",
              "      <td>0.081324</td>\n",
              "      <td>0.879671</td>\n",
              "      <td>111.885096</td>\n",
              "      <td>0.461168</td>\n",
              "    </tr>\n",
              "    <tr>\n",
              "      <th>min</th>\n",
              "      <td>41.312880</td>\n",
              "      <td>-81.866362</td>\n",
              "      <td>1.000000</td>\n",
              "      <td>3.000000</td>\n",
              "      <td>0.000000</td>\n",
              "    </tr>\n",
              "    <tr>\n",
              "      <th>25%</th>\n",
              "      <td>41.459236</td>\n",
              "      <td>-81.723337</td>\n",
              "      <td>3.000000</td>\n",
              "      <td>7.000000</td>\n",
              "      <td>0.000000</td>\n",
              "    </tr>\n",
              "    <tr>\n",
              "      <th>50%</th>\n",
              "      <td>41.488405</td>\n",
              "      <td>-81.690369</td>\n",
              "      <td>3.500000</td>\n",
              "      <td>20.000000</td>\n",
              "      <td>1.000000</td>\n",
              "    </tr>\n",
              "    <tr>\n",
              "      <th>75%</th>\n",
              "      <td>41.501635</td>\n",
              "      <td>-81.627517</td>\n",
              "      <td>4.000000</td>\n",
              "      <td>62.000000</td>\n",
              "      <td>1.000000</td>\n",
              "    </tr>\n",
              "    <tr>\n",
              "      <th>max</th>\n",
              "      <td>41.611857</td>\n",
              "      <td>-81.436705</td>\n",
              "      <td>5.000000</td>\n",
              "      <td>1372.000000</td>\n",
              "      <td>1.000000</td>\n",
              "    </tr>\n",
              "  </tbody>\n",
              "</table>\n",
              "</div>"
            ],
            "text/plain": [
              "          latitude    longitude        stars  review_count      is_open\n",
              "count  1550.000000  1550.000000  1550.000000   1550.000000  1550.000000\n",
              "mean     41.480909   -81.680846     3.491935     60.412258     0.693548\n",
              "std       0.039813     0.081324     0.879671    111.885096     0.461168\n",
              "min      41.312880   -81.866362     1.000000      3.000000     0.000000\n",
              "25%      41.459236   -81.723337     3.000000      7.000000     0.000000\n",
              "50%      41.488405   -81.690369     3.500000     20.000000     1.000000\n",
              "75%      41.501635   -81.627517     4.000000     62.000000     1.000000\n",
              "max      41.611857   -81.436705     5.000000   1372.000000     1.000000"
            ]
          },
          "metadata": {
            "tags": []
          },
          "execution_count": 250
        }
      ]
    },
    {
      "cell_type": "markdown",
      "metadata": {
        "id": "P6NKeCWPABLZ"
      },
      "source": [
        "* Half the restaurants have 20 reviews or more\r\n",
        "* At least 50% of the restaurants are open\r\n",
        "* The stars ratings median is 3.5, with almost identical mean\r\n",
        "\r\n",
        "  Let's explore these further, starting with open vs. closed businesses\r\n",
        "\r\n"
      ]
    },
    {
      "cell_type": "code",
      "metadata": {
        "colab": {
          "base_uri": "https://localhost:8080/",
          "height": 542
        },
        "id": "ZI4PvOMQlIwG",
        "outputId": "e1bc2f74-bfbd-4931-c986-815ac76cc1ac"
      },
      "source": [
        "import plotly.express as px\r\n",
        "open = business.is_open.value_counts()\r\n",
        "open.index = ['Open', 'Closed']\r\n",
        "open\r\n",
        "fig = px.pie(open, values=open, names=open.index.values, title='Try hovering over!', hole=0.35)\r\n",
        "fig.update_traces(hoverinfo='value', textinfo='percent', textfont_size=20)\r\n",
        "fig.update_layout(legend=dict(yanchor=\"top\", y=0.99, xanchor=\"left\", x=0.01))\r\n",
        "fig.show()"
      ],
      "execution_count": null,
      "outputs": [
        {
          "output_type": "display_data",
          "data": {
            "text/html": [
              "<html>\n",
              "<head><meta charset=\"utf-8\" /></head>\n",
              "<body>\n",
              "    <div>\n",
              "            <script src=\"https://cdnjs.cloudflare.com/ajax/libs/mathjax/2.7.5/MathJax.js?config=TeX-AMS-MML_SVG\"></script><script type=\"text/javascript\">if (window.MathJax) {MathJax.Hub.Config({SVG: {font: \"STIX-Web\"}});}</script>\n",
              "                <script type=\"text/javascript\">window.PlotlyConfig = {MathJaxConfig: 'local'};</script>\n",
              "        <script src=\"https://cdn.plot.ly/plotly-latest.min.js\"></script>    \n",
              "            <div id=\"bb62f613-2644-4340-a1e9-13ad893941ae\" class=\"plotly-graph-div\" style=\"height:525px; width:100%;\"></div>\n",
              "            <script type=\"text/javascript\">\n",
              "                \n",
              "                    window.PLOTLYENV=window.PLOTLYENV || {};\n",
              "                    \n",
              "                if (document.getElementById(\"bb62f613-2644-4340-a1e9-13ad893941ae\")) {\n",
              "                    Plotly.newPlot(\n",
              "                        'bb62f613-2644-4340-a1e9-13ad893941ae',\n",
              "                        [{\"domain\": {\"x\": [0.0, 1.0], \"y\": [0.0, 1.0]}, \"hole\": 0.35, \"hoverinfo\": \"value\", \"hoverlabel\": {\"namelength\": 0}, \"hovertemplate\": \"label=%{label}<br>value=%{value}\", \"labels\": [\"Open\", \"Closed\"], \"legendgroup\": \"\", \"name\": \"\", \"showlegend\": true, \"textfont\": {\"size\": 20}, \"textinfo\": \"percent\", \"type\": \"pie\", \"values\": [1075, 475]}],\n",
              "                        {\"legend\": {\"tracegroupgap\": 0, \"x\": 0.01, \"xanchor\": \"left\", \"y\": 0.99, \"yanchor\": \"top\"}, \"template\": {\"data\": {\"bar\": [{\"error_x\": {\"color\": \"#2a3f5f\"}, \"error_y\": {\"color\": \"#2a3f5f\"}, \"marker\": {\"line\": {\"color\": \"#E5ECF6\", \"width\": 0.5}}, \"type\": \"bar\"}], \"barpolar\": [{\"marker\": {\"line\": {\"color\": \"#E5ECF6\", \"width\": 0.5}}, \"type\": \"barpolar\"}], \"carpet\": [{\"aaxis\": {\"endlinecolor\": \"#2a3f5f\", \"gridcolor\": \"white\", \"linecolor\": \"white\", \"minorgridcolor\": \"white\", \"startlinecolor\": \"#2a3f5f\"}, \"baxis\": {\"endlinecolor\": \"#2a3f5f\", \"gridcolor\": \"white\", \"linecolor\": \"white\", \"minorgridcolor\": \"white\", \"startlinecolor\": \"#2a3f5f\"}, \"type\": \"carpet\"}], \"choropleth\": [{\"colorbar\": {\"outlinewidth\": 0, \"ticks\": \"\"}, \"type\": \"choropleth\"}], \"contour\": [{\"colorbar\": {\"outlinewidth\": 0, \"ticks\": \"\"}, \"colorscale\": [[0.0, \"#0d0887\"], [0.1111111111111111, \"#46039f\"], [0.2222222222222222, \"#7201a8\"], [0.3333333333333333, \"#9c179e\"], [0.4444444444444444, \"#bd3786\"], [0.5555555555555556, \"#d8576b\"], [0.6666666666666666, \"#ed7953\"], [0.7777777777777778, \"#fb9f3a\"], [0.8888888888888888, \"#fdca26\"], [1.0, \"#f0f921\"]], \"type\": \"contour\"}], \"contourcarpet\": [{\"colorbar\": {\"outlinewidth\": 0, \"ticks\": \"\"}, \"type\": \"contourcarpet\"}], \"heatmap\": [{\"colorbar\": {\"outlinewidth\": 0, \"ticks\": \"\"}, \"colorscale\": [[0.0, \"#0d0887\"], [0.1111111111111111, \"#46039f\"], [0.2222222222222222, \"#7201a8\"], [0.3333333333333333, \"#9c179e\"], [0.4444444444444444, \"#bd3786\"], [0.5555555555555556, \"#d8576b\"], [0.6666666666666666, \"#ed7953\"], [0.7777777777777778, \"#fb9f3a\"], [0.8888888888888888, \"#fdca26\"], [1.0, \"#f0f921\"]], \"type\": \"heatmap\"}], \"heatmapgl\": [{\"colorbar\": {\"outlinewidth\": 0, \"ticks\": \"\"}, \"colorscale\": [[0.0, \"#0d0887\"], [0.1111111111111111, \"#46039f\"], [0.2222222222222222, \"#7201a8\"], [0.3333333333333333, \"#9c179e\"], [0.4444444444444444, \"#bd3786\"], [0.5555555555555556, \"#d8576b\"], [0.6666666666666666, \"#ed7953\"], [0.7777777777777778, \"#fb9f3a\"], [0.8888888888888888, \"#fdca26\"], [1.0, \"#f0f921\"]], \"type\": \"heatmapgl\"}], \"histogram\": [{\"marker\": {\"colorbar\": {\"outlinewidth\": 0, \"ticks\": \"\"}}, \"type\": \"histogram\"}], \"histogram2d\": [{\"colorbar\": {\"outlinewidth\": 0, \"ticks\": \"\"}, \"colorscale\": [[0.0, \"#0d0887\"], [0.1111111111111111, \"#46039f\"], [0.2222222222222222, \"#7201a8\"], [0.3333333333333333, \"#9c179e\"], [0.4444444444444444, \"#bd3786\"], [0.5555555555555556, \"#d8576b\"], [0.6666666666666666, \"#ed7953\"], [0.7777777777777778, \"#fb9f3a\"], [0.8888888888888888, \"#fdca26\"], [1.0, \"#f0f921\"]], \"type\": \"histogram2d\"}], \"histogram2dcontour\": [{\"colorbar\": {\"outlinewidth\": 0, \"ticks\": \"\"}, \"colorscale\": [[0.0, \"#0d0887\"], [0.1111111111111111, \"#46039f\"], [0.2222222222222222, \"#7201a8\"], [0.3333333333333333, \"#9c179e\"], [0.4444444444444444, \"#bd3786\"], [0.5555555555555556, \"#d8576b\"], [0.6666666666666666, \"#ed7953\"], [0.7777777777777778, \"#fb9f3a\"], [0.8888888888888888, \"#fdca26\"], [1.0, \"#f0f921\"]], \"type\": \"histogram2dcontour\"}], \"mesh3d\": [{\"colorbar\": {\"outlinewidth\": 0, \"ticks\": \"\"}, \"type\": \"mesh3d\"}], \"parcoords\": [{\"line\": {\"colorbar\": {\"outlinewidth\": 0, \"ticks\": \"\"}}, \"type\": \"parcoords\"}], \"pie\": [{\"automargin\": true, \"type\": \"pie\"}], \"scatter\": [{\"marker\": {\"colorbar\": {\"outlinewidth\": 0, \"ticks\": \"\"}}, \"type\": \"scatter\"}], \"scatter3d\": [{\"line\": {\"colorbar\": {\"outlinewidth\": 0, \"ticks\": \"\"}}, \"marker\": {\"colorbar\": {\"outlinewidth\": 0, \"ticks\": \"\"}}, \"type\": \"scatter3d\"}], \"scattercarpet\": [{\"marker\": {\"colorbar\": {\"outlinewidth\": 0, \"ticks\": \"\"}}, \"type\": \"scattercarpet\"}], \"scattergeo\": [{\"marker\": {\"colorbar\": {\"outlinewidth\": 0, \"ticks\": \"\"}}, \"type\": \"scattergeo\"}], \"scattergl\": [{\"marker\": {\"colorbar\": {\"outlinewidth\": 0, \"ticks\": \"\"}}, \"type\": \"scattergl\"}], \"scattermapbox\": [{\"marker\": {\"colorbar\": {\"outlinewidth\": 0, \"ticks\": \"\"}}, \"type\": \"scattermapbox\"}], \"scatterpolar\": [{\"marker\": {\"colorbar\": {\"outlinewidth\": 0, \"ticks\": \"\"}}, \"type\": \"scatterpolar\"}], \"scatterpolargl\": [{\"marker\": {\"colorbar\": {\"outlinewidth\": 0, \"ticks\": \"\"}}, \"type\": \"scatterpolargl\"}], \"scatterternary\": [{\"marker\": {\"colorbar\": {\"outlinewidth\": 0, \"ticks\": \"\"}}, \"type\": \"scatterternary\"}], \"surface\": [{\"colorbar\": {\"outlinewidth\": 0, \"ticks\": \"\"}, \"colorscale\": [[0.0, \"#0d0887\"], [0.1111111111111111, \"#46039f\"], [0.2222222222222222, \"#7201a8\"], [0.3333333333333333, \"#9c179e\"], [0.4444444444444444, \"#bd3786\"], [0.5555555555555556, \"#d8576b\"], [0.6666666666666666, \"#ed7953\"], [0.7777777777777778, \"#fb9f3a\"], [0.8888888888888888, \"#fdca26\"], [1.0, \"#f0f921\"]], \"type\": \"surface\"}], \"table\": [{\"cells\": {\"fill\": {\"color\": \"#EBF0F8\"}, \"line\": {\"color\": \"white\"}}, \"header\": {\"fill\": {\"color\": \"#C8D4E3\"}, \"line\": {\"color\": \"white\"}}, \"type\": \"table\"}]}, \"layout\": {\"annotationdefaults\": {\"arrowcolor\": \"#2a3f5f\", \"arrowhead\": 0, \"arrowwidth\": 1}, \"coloraxis\": {\"colorbar\": {\"outlinewidth\": 0, \"ticks\": \"\"}}, \"colorscale\": {\"diverging\": [[0, \"#8e0152\"], [0.1, \"#c51b7d\"], [0.2, \"#de77ae\"], [0.3, \"#f1b6da\"], [0.4, \"#fde0ef\"], [0.5, \"#f7f7f7\"], [0.6, \"#e6f5d0\"], [0.7, \"#b8e186\"], [0.8, \"#7fbc41\"], [0.9, \"#4d9221\"], [1, \"#276419\"]], \"sequential\": [[0.0, \"#0d0887\"], [0.1111111111111111, \"#46039f\"], [0.2222222222222222, \"#7201a8\"], [0.3333333333333333, \"#9c179e\"], [0.4444444444444444, \"#bd3786\"], [0.5555555555555556, \"#d8576b\"], [0.6666666666666666, \"#ed7953\"], [0.7777777777777778, \"#fb9f3a\"], [0.8888888888888888, \"#fdca26\"], [1.0, \"#f0f921\"]], \"sequentialminus\": [[0.0, \"#0d0887\"], [0.1111111111111111, \"#46039f\"], [0.2222222222222222, \"#7201a8\"], [0.3333333333333333, \"#9c179e\"], [0.4444444444444444, \"#bd3786\"], [0.5555555555555556, \"#d8576b\"], [0.6666666666666666, \"#ed7953\"], [0.7777777777777778, \"#fb9f3a\"], [0.8888888888888888, \"#fdca26\"], [1.0, \"#f0f921\"]]}, \"colorway\": [\"#636efa\", \"#EF553B\", \"#00cc96\", \"#ab63fa\", \"#FFA15A\", \"#19d3f3\", \"#FF6692\", \"#B6E880\", \"#FF97FF\", \"#FECB52\"], \"font\": {\"color\": \"#2a3f5f\"}, \"geo\": {\"bgcolor\": \"white\", \"lakecolor\": \"white\", \"landcolor\": \"#E5ECF6\", \"showlakes\": true, \"showland\": true, \"subunitcolor\": \"white\"}, \"hoverlabel\": {\"align\": \"left\"}, \"hovermode\": \"closest\", \"mapbox\": {\"style\": \"light\"}, \"paper_bgcolor\": \"white\", \"plot_bgcolor\": \"#E5ECF6\", \"polar\": {\"angularaxis\": {\"gridcolor\": \"white\", \"linecolor\": \"white\", \"ticks\": \"\"}, \"bgcolor\": \"#E5ECF6\", \"radialaxis\": {\"gridcolor\": \"white\", \"linecolor\": \"white\", \"ticks\": \"\"}}, \"scene\": {\"xaxis\": {\"backgroundcolor\": \"#E5ECF6\", \"gridcolor\": \"white\", \"gridwidth\": 2, \"linecolor\": \"white\", \"showbackground\": true, \"ticks\": \"\", \"zerolinecolor\": \"white\"}, \"yaxis\": {\"backgroundcolor\": \"#E5ECF6\", \"gridcolor\": \"white\", \"gridwidth\": 2, \"linecolor\": \"white\", \"showbackground\": true, \"ticks\": \"\", \"zerolinecolor\": \"white\"}, \"zaxis\": {\"backgroundcolor\": \"#E5ECF6\", \"gridcolor\": \"white\", \"gridwidth\": 2, \"linecolor\": \"white\", \"showbackground\": true, \"ticks\": \"\", \"zerolinecolor\": \"white\"}}, \"shapedefaults\": {\"line\": {\"color\": \"#2a3f5f\"}}, \"ternary\": {\"aaxis\": {\"gridcolor\": \"white\", \"linecolor\": \"white\", \"ticks\": \"\"}, \"baxis\": {\"gridcolor\": \"white\", \"linecolor\": \"white\", \"ticks\": \"\"}, \"bgcolor\": \"#E5ECF6\", \"caxis\": {\"gridcolor\": \"white\", \"linecolor\": \"white\", \"ticks\": \"\"}}, \"title\": {\"x\": 0.05}, \"xaxis\": {\"automargin\": true, \"gridcolor\": \"white\", \"linecolor\": \"white\", \"ticks\": \"\", \"title\": {\"standoff\": 15}, \"zerolinecolor\": \"white\", \"zerolinewidth\": 2}, \"yaxis\": {\"automargin\": true, \"gridcolor\": \"white\", \"linecolor\": \"white\", \"ticks\": \"\", \"title\": {\"standoff\": 15}, \"zerolinecolor\": \"white\", \"zerolinewidth\": 2}}}, \"title\": {\"text\": \"Try hovering over!\"}},\n",
              "                        {\"responsive\": true}\n",
              "                    ).then(function(){\n",
              "                            \n",
              "var gd = document.getElementById('bb62f613-2644-4340-a1e9-13ad893941ae');\n",
              "var x = new MutationObserver(function (mutations, observer) {{\n",
              "        var display = window.getComputedStyle(gd).display;\n",
              "        if (!display || display === 'none') {{\n",
              "            console.log([gd, 'removed!']);\n",
              "            Plotly.purge(gd);\n",
              "            observer.disconnect();\n",
              "        }}\n",
              "}});\n",
              "\n",
              "// Listen for the removal of the full notebook cells\n",
              "var notebookContainer = gd.closest('#notebook-container');\n",
              "if (notebookContainer) {{\n",
              "    x.observe(notebookContainer, {childList: true});\n",
              "}}\n",
              "\n",
              "// Listen for the clearing of the current output cell\n",
              "var outputEl = gd.closest('.output');\n",
              "if (outputEl) {{\n",
              "    x.observe(outputEl, {childList: true});\n",
              "}}\n",
              "\n",
              "                        })\n",
              "                };\n",
              "                \n",
              "            </script>\n",
              "        </div>\n",
              "</body>\n",
              "</html>"
            ]
          },
          "metadata": {
            "tags": []
          }
        }
      ]
    },
    {
      "cell_type": "code",
      "metadata": {
        "colab": {
          "base_uri": "https://localhost:8080/"
        },
        "id": "eq7vpMW9h1xl",
        "outputId": "8b4b7ad7-8e4e-44e8-9411-3d5aefee73fe"
      },
      "source": [
        "bizrev = business.loc[business.is_open == 1, 'review_count']\r\n",
        "pd.cut(bizrev, 5).value_counts()\r\n",
        "\r\n",
        "groups = bizrev.groupby(['review_count', pd.cut(bizrev.review_count, bins)])\r\n",
        "groups.size().unstack()"
      ],
      "execution_count": 400,
      "outputs": [
        {
          "output_type": "execute_result",
          "data": {
            "text/plain": [
              "(1.631, 276.8]      1017\n",
              "(276.8, 550.6]        41\n",
              "(550.6, 824.4]        11\n",
              "(824.4, 1098.2]        4\n",
              "(1098.2, 1372.0]       2\n",
              "Name: review_count, dtype: int64"
            ]
          },
          "metadata": {
            "tags": []
          },
          "execution_count": 400
        }
      ]
    },
    {
      "cell_type": "code",
      "metadata": {
        "colab": {
          "base_uri": "https://localhost:8080/",
          "height": 387
        },
        "id": "GUUOfyFyZVis",
        "outputId": "c6fc9730-50ec-4474-fad0-8cd03a6a3e32"
      },
      "source": [
        "sns.displot(business.loc[(business.is_open == 1) & (business.review_count <= 300)],\r\n",
        "            x=\"review_count\", hue=\"stars\", kind=\"kde\", multiple=\"stack\", cut=0)"
      ],
      "execution_count": 403,
      "outputs": [
        {
          "output_type": "execute_result",
          "data": {
            "text/plain": [
              "<seaborn.axisgrid.FacetGrid at 0x7fc722d07898>"
            ]
          },
          "metadata": {
            "tags": []
          },
          "execution_count": 403
        },
        {
          "output_type": "display_data",
          "data": {
            "image/png": "[encoded data removed]",
            "text/plain": [
              "<Figure size 412x360 with 1 Axes>"
            ]
          },
          "metadata": {
            "tags": []
          }
        }
      ]
    },
    {
      "cell_type": "code",
      "metadata": {
        "id": "2T6tZv4wlGiW"
      },
      "source": [
        "logmin, logmax = np.log10(biz_rev.min()), np.log10(biz_rev.max())\r\n",
        "log_bins = np.logspace(logmin, logmax, 10)\r\n",
        "sns.displot(biz_rev, bins=log_bins, kde=False)"
      ],
      "execution_count": null,
      "outputs": []
    },
    {
      "cell_type": "markdown",
      "metadata": {
        "id": "GJ5M6LJBIVR5"
      },
      "source": [
        "## Check-Ins"
      ]
    },
    {
      "cell_type": "code",
      "metadata": {
        "colab": {
          "base_uri": "https://localhost:8080/",
          "height": 427
        },
        "id": "pmTkjC0eIbmV",
        "outputId": "29500a9e-8221-4975-9554-92c9aa5ee2d2"
      },
      "source": [
        "checkin.head()"
      ],
      "execution_count": null,
      "outputs": [
        {
          "output_type": "execute_result",
          "data": {
            "text/html": [
              "<div>\n",
              "<style scoped>\n",
              "    .dataframe tbody tr th:only-of-type {\n",
              "        vertical-align: middle;\n",
              "    }\n",
              "\n",
              "    .dataframe tbody tr th {\n",
              "        vertical-align: top;\n",
              "    }\n",
              "\n",
              "    .dataframe thead th {\n",
              "        text-align: right;\n",
              "    }\n",
              "</style>\n",
              "<table border=\"1\" class=\"dataframe\">\n",
              "  <thead>\n",
              "    <tr style=\"text-align: right;\">\n",
              "      <th></th>\n",
              "      <th>business_id</th>\n",
              "      <th>date</th>\n",
              "    </tr>\n",
              "  </thead>\n",
              "  <tbody>\n",
              "    <tr>\n",
              "      <th>136</th>\n",
              "      <td>-23R9P2eG7VTc6DVLjFKzA</td>\n",
              "      <td>2011-12-21 19:02:51, 2012-04-15 04:21:39, 2012-04-15 14:23:56, 2013-06-30 22:39:51, 2013-10-04 20:34:13, 2014-07-16 02:28:40</td>\n",
              "    </tr>\n",
              "    <tr>\n",
              "      <th>624</th>\n",
              "      <td>-DU8jf5nA1_yaOqsKsLqmw</td>\n",
              "      <td>2012-05-19 00:26:19, 2013-04-25 21:31:35, 2013-07-12 21:21:37, 2013-09-15 19:52:09, 2014-06-22 02:23:01, 2014-12-18 22:14:15, 2014-12-28 05:18:22, 2017-04-25 23:35:51</td>\n",
              "    </tr>\n",
              "    <tr>\n",
              "      <th>636</th>\n",
              "      <td>-DkhPijabXuTNvNteIpRPw</td>\n",
              "      <td>2010-10-22 23:00:05, 2010-10-25 00:37:55, 2010-10-28 01:46:15, 2010-11-02 02:52:50, 2010-11-07 23:12:20, 2010-12-30 05:21:19, 2010-12-30 05:21:50, 2010-12-31 22:00:30, 2011-10-14 04:44:42, 2011-11-30 05:05:27, 2011-12-30 04:32:31, 2012-01-05 02:50:22, 2012-01-15 05:57:09, 2012-02-01 04:15:10, 2012-02-19 06:23:50, 2012-02-22 09:28:36, 2012-03-07 07:39:57, 2012-03-09 04:18:57, 2012-04-01 02:22:4...</td>\n",
              "    </tr>\n",
              "    <tr>\n",
              "      <th>693</th>\n",
              "      <td>-F0B5F1YLx7093otwgboxw</td>\n",
              "      <td>2016-03-31 23:14:40, 2016-04-01 04:02:28, 2016-04-01 21:46:10, 2016-04-03 01:46:46, 2016-04-04 20:48:02, 2016-04-04 22:32:37, 2016-04-06 23:56:49, 2016-04-08 21:56:40, 2016-04-11 16:55:09, 2016-04-16 00:45:52, 2016-04-17 17:36:41, 2016-04-17 17:37:14, 2016-05-05 21:02:28, 2016-05-06 22:54:12, 2016-05-09 01:00:08, 2016-05-10 22:11:48, 2016-05-10 23:25:04, 2016-05-13 21:14:05, 2016-05-17 22:56:3...</td>\n",
              "    </tr>\n",
              "    <tr>\n",
              "      <th>756</th>\n",
              "      <td>-GQzMguGfB4jswo8jAO7CQ</td>\n",
              "      <td>2011-11-06 05:10:54, 2012-08-02 00:40:54, 2012-09-16 12:54:33, 2013-10-20 11:37:08, 2013-10-23 09:04:24, 2013-11-13 11:55:26, 2013-11-19 10:51:00, 2014-01-17 21:01:31, 2014-04-14 09:59:07, 2014-04-30 09:54:42, 2014-12-30 12:50:33, 2014-12-31 11:43:40, 2015-01-02 12:10:30, 2017-02-28 21:39:02, 2017-04-18 23:00:52, 2017-12-09 16:23:49</td>\n",
              "    </tr>\n",
              "  </tbody>\n",
              "</table>\n",
              "</div>"
            ],
            "text/plain": [
              "                business_id                                                                                                                                                                                                                                                                                                                                                                                                             date\n",
              "136  -23R9P2eG7VTc6DVLjFKzA                                                                                                                                                                                                                                                                                     2011-12-21 19:02:51, 2012-04-15 04:21:39, 2012-04-15 14:23:56, 2013-06-30 22:39:51, 2013-10-04 20:34:13, 2014-07-16 02:28:40\n",
              "624  -DU8jf5nA1_yaOqsKsLqmw                                                                                                                                                                                                                                           2012-05-19 00:26:19, 2013-04-25 21:31:35, 2013-07-12 21:21:37, 2013-09-15 19:52:09, 2014-06-22 02:23:01, 2014-12-18 22:14:15, 2014-12-28 05:18:22, 2017-04-25 23:35:51\n",
              "636  -DkhPijabXuTNvNteIpRPw  2010-10-22 23:00:05, 2010-10-25 00:37:55, 2010-10-28 01:46:15, 2010-11-02 02:52:50, 2010-11-07 23:12:20, 2010-12-30 05:21:19, 2010-12-30 05:21:50, 2010-12-31 22:00:30, 2011-10-14 04:44:42, 2011-11-30 05:05:27, 2011-12-30 04:32:31, 2012-01-05 02:50:22, 2012-01-15 05:57:09, 2012-02-01 04:15:10, 2012-02-19 06:23:50, 2012-02-22 09:28:36, 2012-03-07 07:39:57, 2012-03-09 04:18:57, 2012-04-01 02:22:4...\n",
              "693  -F0B5F1YLx7093otwgboxw  2016-03-31 23:14:40, 2016-04-01 04:02:28, 2016-04-01 21:46:10, 2016-04-03 01:46:46, 2016-04-04 20:48:02, 2016-04-04 22:32:37, 2016-04-06 23:56:49, 2016-04-08 21:56:40, 2016-04-11 16:55:09, 2016-04-16 00:45:52, 2016-04-17 17:36:41, 2016-04-17 17:37:14, 2016-05-05 21:02:28, 2016-05-06 22:54:12, 2016-05-09 01:00:08, 2016-05-10 22:11:48, 2016-05-10 23:25:04, 2016-05-13 21:14:05, 2016-05-17 22:56:3...\n",
              "756  -GQzMguGfB4jswo8jAO7CQ                                                                   2011-11-06 05:10:54, 2012-08-02 00:40:54, 2012-09-16 12:54:33, 2013-10-20 11:37:08, 2013-10-23 09:04:24, 2013-11-13 11:55:26, 2013-11-19 10:51:00, 2014-01-17 21:01:31, 2014-04-14 09:59:07, 2014-04-30 09:54:42, 2014-12-30 12:50:33, 2014-12-31 11:43:40, 2015-01-02 12:10:30, 2017-02-28 21:39:02, 2017-04-18 23:00:52, 2017-12-09 16:23:49"
            ]
          },
          "metadata": {
            "tags": []
          },
          "execution_count": 272
        }
      ]
    },
    {
      "cell_type": "markdown",
      "metadata": {
        "id": "uRBIFT9CLRLK"
      },
      "source": [
        "##### Normalize dates\r\n",
        "Have each date in a separated row"
      ]
    },
    {
      "cell_type": "code",
      "metadata": {
        "colab": {
          "base_uri": "https://localhost:8080/",
          "height": 202
        },
        "id": "L3DXDgi3Lezy",
        "outputId": "1bc38c16-4493-4024-b3cf-f1ffe81e78d7"
      },
      "source": [
        "checkin = checkin.assign(date=checkin.date.str.split(',')).explode('date')\r\n",
        "checkin['date'] = pd.to_datetime(checkin.date)\r\n",
        "checkin.head()"
      ],
      "execution_count": null,
      "outputs": [
        {
          "output_type": "execute_result",
          "data": {
            "text/html": [
              "<div>\n",
              "<style scoped>\n",
              "    .dataframe tbody tr th:only-of-type {\n",
              "        vertical-align: middle;\n",
              "    }\n",
              "\n",
              "    .dataframe tbody tr th {\n",
              "        vertical-align: top;\n",
              "    }\n",
              "\n",
              "    .dataframe thead th {\n",
              "        text-align: right;\n",
              "    }\n",
              "</style>\n",
              "<table border=\"1\" class=\"dataframe\">\n",
              "  <thead>\n",
              "    <tr style=\"text-align: right;\">\n",
              "      <th></th>\n",
              "      <th>business_id</th>\n",
              "      <th>date</th>\n",
              "    </tr>\n",
              "  </thead>\n",
              "  <tbody>\n",
              "    <tr>\n",
              "      <th>136</th>\n",
              "      <td>-23R9P2eG7VTc6DVLjFKzA</td>\n",
              "      <td>2011-12-21 19:02:51</td>\n",
              "    </tr>\n",
              "    <tr>\n",
              "      <th>136</th>\n",
              "      <td>-23R9P2eG7VTc6DVLjFKzA</td>\n",
              "      <td>2012-04-15 04:21:39</td>\n",
              "    </tr>\n",
              "    <tr>\n",
              "      <th>136</th>\n",
              "      <td>-23R9P2eG7VTc6DVLjFKzA</td>\n",
              "      <td>2012-04-15 14:23:56</td>\n",
              "    </tr>\n",
              "    <tr>\n",
              "      <th>136</th>\n",
              "      <td>-23R9P2eG7VTc6DVLjFKzA</td>\n",
              "      <td>2013-06-30 22:39:51</td>\n",
              "    </tr>\n",
              "    <tr>\n",
              "      <th>136</th>\n",
              "      <td>-23R9P2eG7VTc6DVLjFKzA</td>\n",
              "      <td>2013-10-04 20:34:13</td>\n",
              "    </tr>\n",
              "  </tbody>\n",
              "</table>\n",
              "</div>"
            ],
            "text/plain": [
              "                business_id                date\n",
              "136  -23R9P2eG7VTc6DVLjFKzA 2011-12-21 19:02:51\n",
              "136  -23R9P2eG7VTc6DVLjFKzA 2012-04-15 04:21:39\n",
              "136  -23R9P2eG7VTc6DVLjFKzA 2012-04-15 14:23:56\n",
              "136  -23R9P2eG7VTc6DVLjFKzA 2013-06-30 22:39:51\n",
              "136  -23R9P2eG7VTc6DVLjFKzA 2013-10-04 20:34:13"
            ]
          },
          "metadata": {
            "tags": []
          },
          "execution_count": 128
        }
      ]
    },
    {
      "cell_type": "markdown",
      "metadata": {
        "id": "j71rz2m2WH4V"
      },
      "source": [
        "##### What are the checkin date ranges?"
      ]
    },
    {
      "cell_type": "code",
      "metadata": {
        "colab": {
          "base_uri": "https://localhost:8080/"
        },
        "id": "k6Aeqv8ZWPTY",
        "outputId": "1767cd89-3427-40dc-e9cf-0e56c20b0f22"
      },
      "source": [
        "print(f\"Checking dates range from {checkin.date.min().strftime('%B %d, %Y')} to {checkin.date.max().strftime('%B %d, %Y')}\")"
      ],
      "execution_count": null,
      "outputs": [
        {
          "output_type": "stream",
          "text": [
            "Checking dates range from January 16, 2010 to December 13, 2019\n"
          ],
          "name": "stdout"
        }
      ]
    },
    {
      "cell_type": "markdown",
      "metadata": {
        "id": "IrYGFyFWUxkq"
      },
      "source": [
        "##### We saw that 1,075 restaurants are open - let's compare it to the number of checkins over time\r\n",
        "Use 2018 - 2019 checkins excluding Dec-2019 being a partial month\r\n",
        "\r\n"
      ]
    },
    {
      "cell_type": "code",
      "metadata": {
        "colab": {
          "base_uri": "https://localhost:8080/",
          "height": 365
        },
        "id": "vG4TZl90yOMx",
        "outputId": "90d10c9d-9982-4445-a6a8-9a85320507c8"
      },
      "source": [
        "checks = checkin[(checkin.date >= '2018-01-01') & (checkin.date <= '2019-11-30')]\r\n",
        "checks = checks.groupby(checks.date.dt.strftime('%Y-%m'))['business_id'].nunique()\r\n",
        "checks.index = pd.to_datetime(checks.index,format='%Y-%m')\r\n",
        "plt.plot(checks)"
      ],
      "execution_count": null,
      "outputs": [
        {
          "output_type": "execute_result",
          "data": {
            "text/plain": [
              "[<matplotlib.lines.Line2D at 0x7fc73c8766d8>]"
            ]
          },
          "metadata": {
            "tags": []
          },
          "execution_count": 340
        },
        {
          "output_type": "display_data",
          "data": {
            "image/png": "[encoded data removed]",
            "text/plain": [
              "<Figure size 576x396 with 1 Axes>"
            ]
          },
          "metadata": {
            "tags": []
          }
        }
      ]
    },
    {
      "cell_type": "code",
      "metadata": {
        "colab": {
          "base_uri": "https://localhost:8080/",
          "height": 303
        },
        "id": "rIzRPE03kqPU",
        "outputId": "96eb6986-8fcd-47e2-86ec-854fdb173cfb"
      },
      "source": [
        "business.groupby('stars').size().plot.bar()"
      ],
      "execution_count": null,
      "outputs": [
        {
          "output_type": "execute_result",
          "data": {
            "text/plain": [
              "<matplotlib.axes._subplots.AxesSubplot at 0x7fc73b9a9dd8>"
            ]
          },
          "metadata": {
            "tags": []
          },
          "execution_count": 5
        },
        {
          "output_type": "display_data",
          "data": {
            "image/png": "[encoded data removed]",
            "text/plain": [
              "<Figure size 432x288 with 1 Axes>"
            ]
          },
          "metadata": {
            "tags": [],
            "needs_background": "light"
          }
        }
      ]
    },
    {
      "cell_type": "markdown",
      "metadata": {
        "id": "LS1uG6LPmKxB"
      },
      "source": [
        "### Create categories\r\n"
      ]
    },
    {
      "cell_type": "code",
      "metadata": {
        "colab": {
          "base_uri": "https://localhost:8080/"
        },
        "id": "JShiCU3stu3K",
        "outputId": "d8920ac5-0e55-44bf-c9fb-42c5dadeca0a"
      },
      "source": [
        "business.categories"
      ],
      "execution_count": null,
      "outputs": [
        {
          "output_type": "execute_result",
          "data": {
            "text/plain": [
              "41                                                                                                                                    Restaurants, Vietnamese, Soup\n",
              "49                                                                                                                                  Restaurants, Fast Food, Burgers\n",
              "54        Shopping Centers, Food, Coffee & Tea, Cafes, Museums, Restaurants, Shopping, Local Flavor, Flowers & Gifts, Arts & Entertainment, Art Galleries, Florists\n",
              "173                                                                                                                     Diners, American (Traditional), Restaurants\n",
              "623                                                                                                             Italian, Pizza, Restaurants, American (Traditional)\n",
              "                                                                                    ...                                                                            \n",
              "208990                                                                                                American (Traditional), Restaurants, Fast Food, Chicken Wings\n",
              "209055                                                                                                                                  Middle Eastern, Restaurants\n",
              "209150                                                                                                                  Sandwiches, Breakfast & Brunch, Restaurants\n",
              "209203                                                                                                                                         Chinese, Restaurants\n",
              "209221                                                                           Bakeries, Food, Do-It-Yourself Food, Restaurants, Cafeteria, Pizza, American (New)\n",
              "Name: categories, Length: 1550, dtype: object"
            ]
          },
          "metadata": {
            "tags": []
          },
          "execution_count": 251
        }
      ]
    },
    {
      "cell_type": "markdown",
      "metadata": {
        "id": "jZE8Rq06uJDa"
      },
      "source": [
        "##### Arrange categories in columns"
      ]
    },
    {
      "cell_type": "code",
      "metadata": {
        "colab": {
          "base_uri": "https://localhost:8080/",
          "height": 574
        },
        "id": "zxrDcr51uPLj",
        "outputId": "0d294e4b-e452-4a3c-b972-529d14b1f03b"
      },
      "source": [
        "business.categories.str.split(',', expand=True)"
      ],
      "execution_count": null,
      "outputs": [
        {
          "output_type": "execute_result",
          "data": {
            "text/html": [
              "<div>\n",
              "<style scoped>\n",
              "    .dataframe tbody tr th:only-of-type {\n",
              "        vertical-align: middle;\n",
              "    }\n",
              "\n",
              "    .dataframe tbody tr th {\n",
              "        vertical-align: top;\n",
              "    }\n",
              "\n",
              "    .dataframe thead th {\n",
              "        text-align: right;\n",
              "    }\n",
              "</style>\n",
              "<table border=\"1\" class=\"dataframe\">\n",
              "  <thead>\n",
              "    <tr style=\"text-align: right;\">\n",
              "      <th></th>\n",
              "      <th>0</th>\n",
              "      <th>1</th>\n",
              "      <th>2</th>\n",
              "      <th>3</th>\n",
              "      <th>4</th>\n",
              "      <th>5</th>\n",
              "      <th>6</th>\n",
              "      <th>7</th>\n",
              "      <th>8</th>\n",
              "      <th>9</th>\n",
              "      <th>10</th>\n",
              "      <th>11</th>\n",
              "      <th>12</th>\n",
              "      <th>13</th>\n",
              "      <th>14</th>\n",
              "      <th>15</th>\n",
              "      <th>16</th>\n",
              "      <th>17</th>\n",
              "      <th>18</th>\n",
              "    </tr>\n",
              "  </thead>\n",
              "  <tbody>\n",
              "    <tr>\n",
              "      <th>41</th>\n",
              "      <td>Restaurants</td>\n",
              "      <td>Vietnamese</td>\n",
              "      <td>Soup</td>\n",
              "      <td>None</td>\n",
              "      <td>None</td>\n",
              "      <td>None</td>\n",
              "      <td>None</td>\n",
              "      <td>None</td>\n",
              "      <td>None</td>\n",
              "      <td>None</td>\n",
              "      <td>None</td>\n",
              "      <td>None</td>\n",
              "      <td>None</td>\n",
              "      <td>None</td>\n",
              "      <td>None</td>\n",
              "      <td>None</td>\n",
              "      <td>None</td>\n",
              "      <td>None</td>\n",
              "      <td>None</td>\n",
              "    </tr>\n",
              "    <tr>\n",
              "      <th>49</th>\n",
              "      <td>Restaurants</td>\n",
              "      <td>Fast Food</td>\n",
              "      <td>Burgers</td>\n",
              "      <td>None</td>\n",
              "      <td>None</td>\n",
              "      <td>None</td>\n",
              "      <td>None</td>\n",
              "      <td>None</td>\n",
              "      <td>None</td>\n",
              "      <td>None</td>\n",
              "      <td>None</td>\n",
              "      <td>None</td>\n",
              "      <td>None</td>\n",
              "      <td>None</td>\n",
              "      <td>None</td>\n",
              "      <td>None</td>\n",
              "      <td>None</td>\n",
              "      <td>None</td>\n",
              "      <td>None</td>\n",
              "    </tr>\n",
              "    <tr>\n",
              "      <th>54</th>\n",
              "      <td>Shopping Centers</td>\n",
              "      <td>Food</td>\n",
              "      <td>Coffee &amp; Tea</td>\n",
              "      <td>Cafes</td>\n",
              "      <td>Museums</td>\n",
              "      <td>Restaurants</td>\n",
              "      <td>Shopping</td>\n",
              "      <td>Local Flavor</td>\n",
              "      <td>Flowers &amp; Gifts</td>\n",
              "      <td>Arts &amp; Entertainment</td>\n",
              "      <td>Art Galleries</td>\n",
              "      <td>Florists</td>\n",
              "      <td>None</td>\n",
              "      <td>None</td>\n",
              "      <td>None</td>\n",
              "      <td>None</td>\n",
              "      <td>None</td>\n",
              "      <td>None</td>\n",
              "      <td>None</td>\n",
              "    </tr>\n",
              "    <tr>\n",
              "      <th>173</th>\n",
              "      <td>Diners</td>\n",
              "      <td>American (Traditional)</td>\n",
              "      <td>Restaurants</td>\n",
              "      <td>None</td>\n",
              "      <td>None</td>\n",
              "      <td>None</td>\n",
              "      <td>None</td>\n",
              "      <td>None</td>\n",
              "      <td>None</td>\n",
              "      <td>None</td>\n",
              "      <td>None</td>\n",
              "      <td>None</td>\n",
              "      <td>None</td>\n",
              "      <td>None</td>\n",
              "      <td>None</td>\n",
              "      <td>None</td>\n",
              "      <td>None</td>\n",
              "      <td>None</td>\n",
              "      <td>None</td>\n",
              "    </tr>\n",
              "    <tr>\n",
              "      <th>623</th>\n",
              "      <td>Italian</td>\n",
              "      <td>Pizza</td>\n",
              "      <td>Restaurants</td>\n",
              "      <td>American (Traditional)</td>\n",
              "      <td>None</td>\n",
              "      <td>None</td>\n",
              "      <td>None</td>\n",
              "      <td>None</td>\n",
              "      <td>None</td>\n",
              "      <td>None</td>\n",
              "      <td>None</td>\n",
              "      <td>None</td>\n",
              "      <td>None</td>\n",
              "      <td>None</td>\n",
              "      <td>None</td>\n",
              "      <td>None</td>\n",
              "      <td>None</td>\n",
              "      <td>None</td>\n",
              "      <td>None</td>\n",
              "    </tr>\n",
              "    <tr>\n",
              "      <th>...</th>\n",
              "      <td>...</td>\n",
              "      <td>...</td>\n",
              "      <td>...</td>\n",
              "      <td>...</td>\n",
              "      <td>...</td>\n",
              "      <td>...</td>\n",
              "      <td>...</td>\n",
              "      <td>...</td>\n",
              "      <td>...</td>\n",
              "      <td>...</td>\n",
              "      <td>...</td>\n",
              "      <td>...</td>\n",
              "      <td>...</td>\n",
              "      <td>...</td>\n",
              "      <td>...</td>\n",
              "      <td>...</td>\n",
              "      <td>...</td>\n",
              "      <td>...</td>\n",
              "      <td>...</td>\n",
              "    </tr>\n",
              "    <tr>\n",
              "      <th>208990</th>\n",
              "      <td>American (Traditional)</td>\n",
              "      <td>Restaurants</td>\n",
              "      <td>Fast Food</td>\n",
              "      <td>Chicken Wings</td>\n",
              "      <td>None</td>\n",
              "      <td>None</td>\n",
              "      <td>None</td>\n",
              "      <td>None</td>\n",
              "      <td>None</td>\n",
              "      <td>None</td>\n",
              "      <td>None</td>\n",
              "      <td>None</td>\n",
              "      <td>None</td>\n",
              "      <td>None</td>\n",
              "      <td>None</td>\n",
              "      <td>None</td>\n",
              "      <td>None</td>\n",
              "      <td>None</td>\n",
              "      <td>None</td>\n",
              "    </tr>\n",
              "    <tr>\n",
              "      <th>209055</th>\n",
              "      <td>Middle Eastern</td>\n",
              "      <td>Restaurants</td>\n",
              "      <td>None</td>\n",
              "      <td>None</td>\n",
              "      <td>None</td>\n",
              "      <td>None</td>\n",
              "      <td>None</td>\n",
              "      <td>None</td>\n",
              "      <td>None</td>\n",
              "      <td>None</td>\n",
              "      <td>None</td>\n",
              "      <td>None</td>\n",
              "      <td>None</td>\n",
              "      <td>None</td>\n",
              "      <td>None</td>\n",
              "      <td>None</td>\n",
              "      <td>None</td>\n",
              "      <td>None</td>\n",
              "      <td>None</td>\n",
              "    </tr>\n",
              "    <tr>\n",
              "      <th>209150</th>\n",
              "      <td>Sandwiches</td>\n",
              "      <td>Breakfast &amp; Brunch</td>\n",
              "      <td>Restaurants</td>\n",
              "      <td>None</td>\n",
              "      <td>None</td>\n",
              "      <td>None</td>\n",
              "      <td>None</td>\n",
              "      <td>None</td>\n",
              "      <td>None</td>\n",
              "      <td>None</td>\n",
              "      <td>None</td>\n",
              "      <td>None</td>\n",
              "      <td>None</td>\n",
              "      <td>None</td>\n",
              "      <td>None</td>\n",
              "      <td>None</td>\n",
              "      <td>None</td>\n",
              "      <td>None</td>\n",
              "      <td>None</td>\n",
              "    </tr>\n",
              "    <tr>\n",
              "      <th>209203</th>\n",
              "      <td>Chinese</td>\n",
              "      <td>Restaurants</td>\n",
              "      <td>None</td>\n",
              "      <td>None</td>\n",
              "      <td>None</td>\n",
              "      <td>None</td>\n",
              "      <td>None</td>\n",
              "      <td>None</td>\n",
              "      <td>None</td>\n",
              "      <td>None</td>\n",
              "      <td>None</td>\n",
              "      <td>None</td>\n",
              "      <td>None</td>\n",
              "      <td>None</td>\n",
              "      <td>None</td>\n",
              "      <td>None</td>\n",
              "      <td>None</td>\n",
              "      <td>None</td>\n",
              "      <td>None</td>\n",
              "    </tr>\n",
              "    <tr>\n",
              "      <th>209221</th>\n",
              "      <td>Bakeries</td>\n",
              "      <td>Food</td>\n",
              "      <td>Do-It-Yourself Food</td>\n",
              "      <td>Restaurants</td>\n",
              "      <td>Cafeteria</td>\n",
              "      <td>Pizza</td>\n",
              "      <td>American (New)</td>\n",
              "      <td>None</td>\n",
              "      <td>None</td>\n",
              "      <td>None</td>\n",
              "      <td>None</td>\n",
              "      <td>None</td>\n",
              "      <td>None</td>\n",
              "      <td>None</td>\n",
              "      <td>None</td>\n",
              "      <td>None</td>\n",
              "      <td>None</td>\n",
              "      <td>None</td>\n",
              "      <td>None</td>\n",
              "    </tr>\n",
              "  </tbody>\n",
              "</table>\n",
              "<p>1550 rows × 19 columns</p>\n",
              "</div>"
            ],
            "text/plain": [
              "                            0                        1   ...    17    18\n",
              "41                 Restaurants               Vietnamese  ...  None  None\n",
              "49                 Restaurants                Fast Food  ...  None  None\n",
              "54            Shopping Centers                     Food  ...  None  None\n",
              "173                     Diners   American (Traditional)  ...  None  None\n",
              "623                    Italian                    Pizza  ...  None  None\n",
              "...                        ...                      ...  ...   ...   ...\n",
              "208990  American (Traditional)              Restaurants  ...  None  None\n",
              "209055          Middle Eastern              Restaurants  ...  None  None\n",
              "209150              Sandwiches       Breakfast & Brunch  ...  None  None\n",
              "209203                 Chinese              Restaurants  ...  None  None\n",
              "209221                Bakeries                     Food  ...  None  None\n",
              "\n",
              "[1550 rows x 19 columns]"
            ]
          },
          "metadata": {
            "tags": []
          },
          "execution_count": 252
        }
      ]
    },
    {
      "cell_type": "markdown",
      "metadata": {
        "id": "SL8QveuauftI"
      },
      "source": [
        "##### Since the category values are mixed with no particular hierarchy...\r\n",
        "let's collect all category values to decide which ones seem useful"
      ]
    },
    {
      "cell_type": "code",
      "metadata": {
        "colab": {
          "base_uri": "https://localhost:8080/",
          "height": 415
        },
        "id": "rTkW8M2Wunhj",
        "outputId": "9b230678-37dc-4ea7-c6d8-2d94ce972f78"
      },
      "source": [
        "categories = ' '.join(business.categories).split(',')\r\n",
        "categories = pd.DataFrame(list(set([category.replace(\"\\'|&\", '').strip() for category in categories])))\r\n",
        "categories"
      ],
      "execution_count": null,
      "outputs": [
        {
          "output_type": "execute_result",
          "data": {
            "text/html": [
              "<div>\n",
              "<style scoped>\n",
              "    .dataframe tbody tr th:only-of-type {\n",
              "        vertical-align: middle;\n",
              "    }\n",
              "\n",
              "    .dataframe tbody tr th {\n",
              "        vertical-align: top;\n",
              "    }\n",
              "\n",
              "    .dataframe thead th {\n",
              "        text-align: right;\n",
              "    }\n",
              "</style>\n",
              "<table border=\"1\" class=\"dataframe\">\n",
              "  <thead>\n",
              "    <tr style=\"text-align: right;\">\n",
              "      <th></th>\n",
              "      <th>0</th>\n",
              "    </tr>\n",
              "  </thead>\n",
              "  <tbody>\n",
              "    <tr>\n",
              "      <th>0</th>\n",
              "      <td>Japanese</td>\n",
              "    </tr>\n",
              "    <tr>\n",
              "      <th>1</th>\n",
              "      <td>Fast Food Bars</td>\n",
              "    </tr>\n",
              "    <tr>\n",
              "      <th>2</th>\n",
              "      <td>Pasta Shops Salad</td>\n",
              "    </tr>\n",
              "    <tr>\n",
              "      <th>3</th>\n",
              "      <td>Greek Bars</td>\n",
              "    </tr>\n",
              "    <tr>\n",
              "      <th>4</th>\n",
              "      <td>Restaurants Adult Entertainment</td>\n",
              "    </tr>\n",
              "    <tr>\n",
              "      <th>...</th>\n",
              "      <td>...</td>\n",
              "    </tr>\n",
              "    <tr>\n",
              "      <th>1027</th>\n",
              "      <td>Caribbean Sandwiches</td>\n",
              "    </tr>\n",
              "    <tr>\n",
              "      <th>1028</th>\n",
              "      <td>Restaurants Irish</td>\n",
              "    </tr>\n",
              "    <tr>\n",
              "      <th>1029</th>\n",
              "      <td>Hungarian Greek</td>\n",
              "    </tr>\n",
              "    <tr>\n",
              "      <th>1030</th>\n",
              "      <td>American (Traditional) American (New)</td>\n",
              "    </tr>\n",
              "    <tr>\n",
              "      <th>1031</th>\n",
              "      <td>Food Specialty Food</td>\n",
              "    </tr>\n",
              "  </tbody>\n",
              "</table>\n",
              "<p>1032 rows × 1 columns</p>\n",
              "</div>"
            ],
            "text/plain": [
              "                                          0\n",
              "0                                  Japanese\n",
              "1                            Fast Food Bars\n",
              "2                         Pasta Shops Salad\n",
              "3                                Greek Bars\n",
              "4           Restaurants Adult Entertainment\n",
              "...                                     ...\n",
              "1027                   Caribbean Sandwiches\n",
              "1028                      Restaurants Irish\n",
              "1029                        Hungarian Greek\n",
              "1030  American (Traditional) American (New)\n",
              "1031                    Food Specialty Food\n",
              "\n",
              "[1032 rows x 1 columns]"
            ]
          },
          "metadata": {
            "tags": []
          },
          "execution_count": 253
        }
      ]
    },
    {
      "cell_type": "markdown",
      "metadata": {
        "id": "UPPXaVYJuxPX"
      },
      "source": [
        "##### Check which are the most frequent onces, and use them to build some new features"
      ]
    },
    {
      "cell_type": "code",
      "metadata": {
        "colab": {
          "base_uri": "https://localhost:8080/"
        },
        "id": "u-Y2XaEku7jw",
        "outputId": "177208e7-ec71-4d1b-f7af-6f61a9e67039"
      },
      "source": [
        "business.categories.str.split(',\\s+', expand=True).stack().value_counts()"
      ],
      "execution_count": null,
      "outputs": [
        {
          "output_type": "execute_result",
          "data": {
            "text/plain": [
              "Restaurants               1550\n",
              "Food                       405\n",
              "Nightlife                  330\n",
              "Bars                       318\n",
              "American (Traditional)     260\n",
              "                          ... \n",
              "Fitness & Instruction        1\n",
              "Boat Charters                1\n",
              "Knife Sharpening             1\n",
              "Day Spas                     1\n",
              "Home Services                1\n",
              "Length: 261, dtype: int64"
            ]
          },
          "metadata": {
            "tags": []
          },
          "execution_count": 254
        }
      ]
    },
    {
      "cell_type": "markdown",
      "metadata": {
        "id": "fpzO3v0zvGzh"
      },
      "source": [
        "##### build 3 new features = sub-categories: the restaurant region, the business type, and veggy/vegan food"
      ]
    },
    {
      "cell_type": "code",
      "metadata": {
        "colab": {
          "base_uri": "https://localhost:8080/"
        },
        "id": "MP-LmCXKvQps",
        "outputId": "65562f2f-5fab-4934-c2c8-d855dcde1360"
      },
      "source": [
        "values = ['American (Traditional)', 'American (New)', 'Italian', 'Chinese', 'Mexican', 'Mediterranean', 'Japanese', 'Asian Fusion', 'Thai', 'Indian', 'Middle Eastern', 'Greek', 'Latin American', 'French', 'Turkish', 'Korean', 'Caribbean', 'Southern', 'Vietnamese', 'Taiwanese', 'Pakistani', 'Szechuan']\r\n",
        "conditions = list(map(business.categories.str.contains, values))\r\n",
        "business['region'] = np.select(conditions, values, 'other')\r\n",
        "business.region.value_counts()"
      ],
      "execution_count": null,
      "outputs": [
        {
          "output_type": "stream",
          "text": [
            "/usr/local/lib/python3.6/dist-packages/pandas/core/strings.py:2001: UserWarning: This pattern has match groups. To actually get the groups, use str.extract.\n",
            "  return func(self, *args, **kwargs)\n"
          ],
          "name": "stderr"
        },
        {
          "output_type": "execute_result",
          "data": {
            "text/plain": [
              "other             1052\n",
              "Italian            107\n",
              "Chinese            103\n",
              "Mexican             75\n",
              "Mediterranean       39\n",
              "Japanese            31\n",
              "Latin American      23\n",
              "Middle Eastern      20\n",
              "Indian              16\n",
              "Asian Fusion        16\n",
              "Southern            14\n",
              "Thai                12\n",
              "French              11\n",
              "Greek                9\n",
              "Caribbean            8\n",
              "Vietnamese           8\n",
              "Korean               5\n",
              "Turkish              1\n",
              "Name: region, dtype: int64"
            ]
          },
          "metadata": {
            "tags": []
          },
          "execution_count": 255
        }
      ]
    },
    {
      "cell_type": "code",
      "metadata": {
        "colab": {
          "base_uri": "https://localhost:8080/"
        },
        "id": "YcxhvFt0vVbv",
        "outputId": "45333ef2-d660-4560-9803-5051ebffe3bb"
      },
      "source": [
        "values = ['Bars', 'Fast Food', 'Burgers', 'Cafes', 'Event Planning & Services', 'Delis', 'Caterers', 'Diners', 'Cocktail Bars', 'Bakeries', 'Sushi Bars', 'Sports Bars', 'Pubs', 'Steakhouses', 'Food Trucks', 'Lounges', 'Wine Bars', 'Arts & Entertainment', 'Beer Bar', 'Food Delivery Services', 'Grocery', 'Dive Bars', 'Gastropubs', 'Venues & Event Spaces']\r\n",
        "conditions = list(map(business.categories.str.contains, values))\r\n",
        "business['business_type'] = np.select(conditions, values, 'other')\r\n",
        "business.business_type.value_counts()"
      ],
      "execution_count": null,
      "outputs": [
        {
          "output_type": "execute_result",
          "data": {
            "text/plain": [
              "other                        697\n",
              "Bars                         370\n",
              "Fast Food                    163\n",
              "Delis                         61\n",
              "Cafes                         49\n",
              "Bakeries                      47\n",
              "Burgers                       44\n",
              "Event Planning & Services     42\n",
              "Diners                        34\n",
              "Arts & Entertainment          12\n",
              "Steakhouses                   11\n",
              "Food Trucks                    8\n",
              "Grocery                        5\n",
              "Food Delivery Services         4\n",
              "Gastropubs                     3\n",
              "Name: business_type, dtype: int64"
            ]
          },
          "metadata": {
            "tags": []
          },
          "execution_count": 256
        }
      ]
    },
    {
      "cell_type": "code",
      "metadata": {
        "colab": {
          "base_uri": "https://localhost:8080/"
        },
        "id": "G0M_ku8Fva__",
        "outputId": "990563cd-f5d3-44cd-bea6-750c3e606ce3"
      },
      "source": [
        "conditions = list(map(business.categories.str.lower().str.contains, ['veg']))\r\n",
        "business['veggy'] = np.select(conditions, ['veg'], 'other')\r\n",
        "business.veggy.value_counts()"
      ],
      "execution_count": null,
      "outputs": [
        {
          "output_type": "execute_result",
          "data": {
            "text/plain": [
              "other    1515\n",
              "veg        35\n",
              "Name: veggy, dtype: int64"
            ]
          },
          "metadata": {
            "tags": []
          },
          "execution_count": 257
        }
      ]
    },
    {
      "cell_type": "markdown",
      "metadata": {
        "id": "37RuYp5J4X2G"
      },
      "source": [
        "### Flatten complex objects"
      ]
    },
    {
      "cell_type": "markdown",
      "metadata": {
        "id": "ygA0aXuk39-M"
      },
      "source": [
        "##### Attributes: handle missing values, clean special unicode u' symbols\r\n",
        "\r\n"
      ]
    },
    {
      "cell_type": "code",
      "metadata": {
        "id": "-sQ0pajFO8JP"
      },
      "source": [
        "business['attributes'] = business.attributes.apply(lambda x: {} if x is None else x)\r\n",
        "business['attributes'] = business.attributes.apply(lambda x: ast.literal_eval(json.dumps(x).replace(\"u\\'\", \"\")))"
      ],
      "execution_count": null,
      "outputs": []
    },
    {
      "cell_type": "markdown",
      "metadata": {
        "id": "Eum2__5uxhiA"
      },
      "source": [
        "##### Start with *attributes* and business hours"
      ]
    },
    {
      "cell_type": "code",
      "metadata": {
        "id": "xufYxXLQ4Mcl"
      },
      "source": [
        "business_data = business.drop(['attributes', 'hours'], axis=1)\r\n",
        "flat_cols = flat_table.normalize(business[['attributes', 'hours']])\r\n",
        "business = pd.concat([business_data.reset_index(drop=True), flat_cols], axis=1)\r\n",
        "business.columns = [x[len('attributes.'):] if x.startswith('attributes.') else x for x in business.columns]\r\n",
        "business.columns = [x[len('hours.'):] if x.startswith('hours.') else x for x in business.columns]"
      ],
      "execution_count": null,
      "outputs": []
    },
    {
      "cell_type": "code",
      "metadata": {
        "colab": {
          "base_uri": "https://localhost:8080/"
        },
        "id": "p7FOSXYaYqKh",
        "outputId": "7526dd5e-1e5c-49cd-eeb0-abf4cad8f72b"
      },
      "source": [
        "business.info()"
      ],
      "execution_count": null,
      "outputs": [
        {
          "output_type": "stream",
          "text": [
            "<class 'pandas.core.frame.DataFrame'>\n",
            "RangeIndex: 1550 entries, 0 to 1549\n",
            "Data columns (total 59 columns):\n",
            " #   Column                      Non-Null Count  Dtype  \n",
            "---  ------                      --------------  -----  \n",
            " 0   business_id                 1550 non-null   object \n",
            " 1   name                        1550 non-null   object \n",
            " 2   address                     1550 non-null   object \n",
            " 3   city                        1550 non-null   object \n",
            " 4   state                       1550 non-null   object \n",
            " 5   postal_code                 1550 non-null   object \n",
            " 6   latitude                    1550 non-null   float64\n",
            " 7   longitude                   1550 non-null   float64\n",
            " 8   stars                       1550 non-null   float64\n",
            " 9   review_count                1550 non-null   int64  \n",
            " 10  is_open                     1550 non-null   int64  \n",
            " 11  categories                  1550 non-null   object \n",
            " 12  region                      1550 non-null   object \n",
            " 13  business_type               1550 non-null   object \n",
            " 14  veggy                       1550 non-null   object \n",
            " 15  index                       1550 non-null   int64  \n",
            " 16  AcceptsInsurance            1 non-null      object \n",
            " 17  AgesAllowed                 2 non-null      object \n",
            " 18  DietaryRestrictions         2 non-null      object \n",
            " 19  BYOBCorkage                 35 non-null     object \n",
            " 20  ByAppointmentOnly           59 non-null     object \n",
            " 21  BusinessAcceptsBitcoin      153 non-null    object \n",
            " 22  DogsAllowed                 201 non-null    object \n",
            " 23  DriveThru                   65 non-null     object \n",
            " 24  BestNights                  151 non-null    object \n",
            " 25  Smoking                     109 non-null    object \n",
            " 26  Music                       202 non-null    object \n",
            " 27  GoodForDancing              140 non-null    object \n",
            " 28  CoatCheck                   117 non-null    object \n",
            " 29  HappyHour                   390 non-null    object \n",
            " 30  RestaurantsGoodForGroups    1256 non-null   object \n",
            " 31  RestaurantsReservations     1274 non-null   object \n",
            " 32  RestaurantsPriceRange2      1352 non-null   object \n",
            " 33  RestaurantsAttire           1174 non-null   object \n",
            " 34  NoiseLevel                  1003 non-null   object \n",
            " 35  GoodForKids                 1243 non-null   object \n",
            " 36  RestaurantsDelivery         1281 non-null   object \n",
            " 37  Caters                      890 non-null    object \n",
            " 38  RestaurantsTakeOut          1334 non-null   object \n",
            " 39  WheelchairAccessible        248 non-null    object \n",
            " 40  RestaurantsTableService     435 non-null    object \n",
            " 41  WiFi                        999 non-null    object \n",
            " 42  OutdoorSeating              1214 non-null   object \n",
            " 43  HasTV                       1151 non-null   object \n",
            " 44  Alcohol                     1115 non-null   object \n",
            " 45  BikeParking                 967 non-null    object \n",
            " 46  BusinessAcceptsCreditCards  1385 non-null   object \n",
            " 47  Corkage                     10 non-null     object \n",
            " 48  GoodForMeal                 744 non-null    object \n",
            " 49  BYOB                        13 non-null     object \n",
            " 50  Ambience                    1170 non-null   object \n",
            " 51  BusinessParking             1281 non-null   object \n",
            " 52  Tuesday                     1139 non-null   object \n",
            " 53  Sunday                      900 non-null    object \n",
            " 54  Saturday                    1113 non-null   object \n",
            " 55  Friday                      1179 non-null   object \n",
            " 56  Thursday                    1167 non-null   object \n",
            " 57  Wednesday                   1170 non-null   object \n",
            " 58  Monday                      1042 non-null   object \n",
            "dtypes: float64(3), int64(3), object(53)\n",
            "memory usage: 714.6+ KB\n"
          ],
          "name": "stdout"
        }
      ]
    },
    {
      "cell_type": "markdown",
      "metadata": {
        "id": "m2PYa_D1laEa"
      },
      "source": [
        "##### Flatten additional attributes"
      ]
    },
    {
      "cell_type": "code",
      "metadata": {
        "id": "RhSIZOVY6aHO"
      },
      "source": [
        "def flatten_col(df, col):\r\n",
        "    df[col] = df[col].apply(lambda x: '{}' if len(str(x))<=5 else x)\r\n",
        "    df[col] = df[col].replace(\"\\'\", \"\\\"\")\r\n",
        "    df[col] = df[col].apply(ast.literal_eval)\r\n",
        "    df = pd.concat([df.drop([col], axis=1).reset_index(drop=True), pd.json_normalize(df[col])], axis=1)\r\n",
        "    return df\r\n"
      ],
      "execution_count": null,
      "outputs": []
    },
    {
      "cell_type": "code",
      "metadata": {
        "colab": {
          "base_uri": "https://localhost:8080/"
        },
        "id": "uBdxELOl7Fdt",
        "outputId": "e22c4684-4a04-40b3-8a4f-830bfcebf5ff"
      },
      "source": [
        "business = flatten_col(business, 'GoodForMeal')\r\n",
        "business = flatten_col(business, 'Ambience')\r\n",
        "business = flatten_col(business, 'BusinessParking')\r\n",
        "business.info()"
      ],
      "execution_count": null,
      "outputs": [
        {
          "output_type": "stream",
          "text": [
            "<class 'pandas.core.frame.DataFrame'>\n",
            "RangeIndex: 1550 entries, 0 to 1549\n",
            "Data columns (total 76 columns):\n",
            " #   Column                      Non-Null Count  Dtype  \n",
            "---  ------                      --------------  -----  \n",
            " 0   business_id                 1550 non-null   object \n",
            " 1   name                        1550 non-null   object \n",
            " 2   address                     1550 non-null   object \n",
            " 3   city                        1550 non-null   object \n",
            " 4   state                       1550 non-null   object \n",
            " 5   postal_code                 1550 non-null   object \n",
            " 6   latitude                    1550 non-null   float64\n",
            " 7   longitude                   1550 non-null   float64\n",
            " 8   stars                       1550 non-null   float64\n",
            " 9   review_count                1550 non-null   int64  \n",
            " 10  is_open                     1550 non-null   int64  \n",
            " 11  categories                  1550 non-null   object \n",
            " 12  region                      1550 non-null   object \n",
            " 13  business_type               1550 non-null   object \n",
            " 14  veggy                       1550 non-null   object \n",
            " 15  index                       1550 non-null   int64  \n",
            " 16  AcceptsInsurance            1 non-null      object \n",
            " 17  AgesAllowed                 2 non-null      object \n",
            " 18  DietaryRestrictions         2 non-null      object \n",
            " 19  BYOBCorkage                 35 non-null     object \n",
            " 20  ByAppointmentOnly           59 non-null     object \n",
            " 21  BusinessAcceptsBitcoin      153 non-null    object \n",
            " 22  DogsAllowed                 201 non-null    object \n",
            " 23  DriveThru                   65 non-null     object \n",
            " 24  BestNights                  151 non-null    object \n",
            " 25  Smoking                     109 non-null    object \n",
            " 26  Music                       202 non-null    object \n",
            " 27  GoodForDancing              140 non-null    object \n",
            " 28  CoatCheck                   117 non-null    object \n",
            " 29  HappyHour                   390 non-null    object \n",
            " 30  RestaurantsGoodForGroups    1256 non-null   object \n",
            " 31  RestaurantsReservations     1274 non-null   object \n",
            " 32  RestaurantsPriceRange2      1352 non-null   object \n",
            " 33  RestaurantsAttire           1174 non-null   object \n",
            " 34  NoiseLevel                  1003 non-null   object \n",
            " 35  GoodForKids                 1243 non-null   object \n",
            " 36  RestaurantsDelivery         1281 non-null   object \n",
            " 37  Caters                      890 non-null    object \n",
            " 38  RestaurantsTakeOut          1334 non-null   object \n",
            " 39  WheelchairAccessible        248 non-null    object \n",
            " 40  RestaurantsTableService     435 non-null    object \n",
            " 41  WiFi                        999 non-null    object \n",
            " 42  OutdoorSeating              1214 non-null   object \n",
            " 43  HasTV                       1151 non-null   object \n",
            " 44  Alcohol                     1115 non-null   object \n",
            " 45  BikeParking                 967 non-null    object \n",
            " 46  BusinessAcceptsCreditCards  1385 non-null   object \n",
            " 47  Corkage                     10 non-null     object \n",
            " 48  BYOB                        13 non-null     object \n",
            " 49  Tuesday                     1139 non-null   object \n",
            " 50  Sunday                      900 non-null    object \n",
            " 51  Saturday                    1113 non-null   object \n",
            " 52  Friday                      1179 non-null   object \n",
            " 53  Thursday                    1167 non-null   object \n",
            " 54  Wednesday                   1170 non-null   object \n",
            " 55  Monday                      1042 non-null   object \n",
            " 56  dessert                     706 non-null    object \n",
            " 57  latenight                   713 non-null    object \n",
            " 58  lunch                       717 non-null    object \n",
            " 59  dinner                      727 non-null    object \n",
            " 60  brunch                      717 non-null    object \n",
            " 61  breakfast                   730 non-null    object \n",
            " 62  touristy                    1141 non-null   object \n",
            " 63  hipster                     1122 non-null   object \n",
            " 64  romantic                    1137 non-null   object \n",
            " 65  divey                       1129 non-null   object \n",
            " 66  intimate                    1129 non-null   object \n",
            " 67  trendy                      1126 non-null   object \n",
            " 68  upscale                     1137 non-null   object \n",
            " 69  classy                      1133 non-null   object \n",
            " 70  casual                      1147 non-null   object \n",
            " 71  garage                      1251 non-null   object \n",
            " 72  street                      1255 non-null   object \n",
            " 73  validated                   1254 non-null   object \n",
            " 74  lot                         1256 non-null   object \n",
            " 75  valet                       1263 non-null   object \n",
            "dtypes: float64(3), int64(3), object(70)\n",
            "memory usage: 920.4+ KB\n"
          ],
          "name": "stdout"
        }
      ]
    },
    {
      "cell_type": "markdown",
      "metadata": {
        "id": "RftxLVbHzBwB"
      },
      "source": [
        "### Cleanup & modify column types"
      ]
    },
    {
      "cell_type": "markdown",
      "metadata": {
        "id": "n-Qjf2crZyMF"
      },
      "source": [
        "##### Drop columns containing mostly null values "
      ]
    },
    {
      "cell_type": "code",
      "metadata": {
        "colab": {
          "base_uri": "https://localhost:8080/"
        },
        "id": "RfFcpQnr1-yK",
        "outputId": "3f0bb3c2-dc7c-42d3-b99e-e8a4dbdde6c6"
      },
      "source": [
        "business.info()"
      ],
      "execution_count": null,
      "outputs": [
        {
          "output_type": "stream",
          "text": [
            "<class 'pandas.core.frame.DataFrame'>\n",
            "RangeIndex: 1550 entries, 0 to 1549\n",
            "Data columns (total 76 columns):\n",
            " #   Column                      Non-Null Count  Dtype  \n",
            "---  ------                      --------------  -----  \n",
            " 0   business_id                 1550 non-null   object \n",
            " 1   name                        1550 non-null   object \n",
            " 2   address                     1550 non-null   object \n",
            " 3   city                        1550 non-null   object \n",
            " 4   state                       1550 non-null   object \n",
            " 5   postal_code                 1550 non-null   object \n",
            " 6   latitude                    1550 non-null   float64\n",
            " 7   longitude                   1550 non-null   float64\n",
            " 8   stars                       1550 non-null   float64\n",
            " 9   review_count                1550 non-null   int64  \n",
            " 10  is_open                     1550 non-null   int64  \n",
            " 11  categories                  1550 non-null   object \n",
            " 12  region                      1550 non-null   object \n",
            " 13  business_type               1550 non-null   object \n",
            " 14  veggy                       1550 non-null   object \n",
            " 15  index                       1550 non-null   int64  \n",
            " 16  AcceptsInsurance            1 non-null      object \n",
            " 17  AgesAllowed                 2 non-null      object \n",
            " 18  DietaryRestrictions         2 non-null      object \n",
            " 19  BYOBCorkage                 35 non-null     object \n",
            " 20  ByAppointmentOnly           59 non-null     object \n",
            " 21  BusinessAcceptsBitcoin      153 non-null    object \n",
            " 22  DogsAllowed                 201 non-null    object \n",
            " 23  DriveThru                   65 non-null     object \n",
            " 24  BestNights                  151 non-null    object \n",
            " 25  Smoking                     109 non-null    object \n",
            " 26  Music                       202 non-null    object \n",
            " 27  GoodForDancing              140 non-null    object \n",
            " 28  CoatCheck                   117 non-null    object \n",
            " 29  HappyHour                   390 non-null    object \n",
            " 30  RestaurantsGoodForGroups    1256 non-null   object \n",
            " 31  RestaurantsReservations     1274 non-null   object \n",
            " 32  RestaurantsPriceRange2      1352 non-null   object \n",
            " 33  RestaurantsAttire           1174 non-null   object \n",
            " 34  NoiseLevel                  1003 non-null   object \n",
            " 35  GoodForKids                 1243 non-null   object \n",
            " 36  RestaurantsDelivery         1281 non-null   object \n",
            " 37  Caters                      890 non-null    object \n",
            " 38  RestaurantsTakeOut          1334 non-null   object \n",
            " 39  WheelchairAccessible        248 non-null    object \n",
            " 40  RestaurantsTableService     435 non-null    object \n",
            " 41  WiFi                        999 non-null    object \n",
            " 42  OutdoorSeating              1214 non-null   object \n",
            " 43  HasTV                       1151 non-null   object \n",
            " 44  Alcohol                     1115 non-null   object \n",
            " 45  BikeParking                 967 non-null    object \n",
            " 46  BusinessAcceptsCreditCards  1385 non-null   object \n",
            " 47  Corkage                     10 non-null     object \n",
            " 48  BYOB                        13 non-null     object \n",
            " 49  Tuesday                     1139 non-null   object \n",
            " 50  Sunday                      900 non-null    object \n",
            " 51  Saturday                    1113 non-null   object \n",
            " 52  Friday                      1179 non-null   object \n",
            " 53  Thursday                    1167 non-null   object \n",
            " 54  Wednesday                   1170 non-null   object \n",
            " 55  Monday                      1042 non-null   object \n",
            " 56  dessert                     706 non-null    object \n",
            " 57  latenight                   713 non-null    object \n",
            " 58  lunch                       717 non-null    object \n",
            " 59  dinner                      727 non-null    object \n",
            " 60  brunch                      717 non-null    object \n",
            " 61  breakfast                   730 non-null    object \n",
            " 62  touristy                    1141 non-null   object \n",
            " 63  hipster                     1122 non-null   object \n",
            " 64  romantic                    1137 non-null   object \n",
            " 65  divey                       1129 non-null   object \n",
            " 66  intimate                    1129 non-null   object \n",
            " 67  trendy                      1126 non-null   object \n",
            " 68  upscale                     1137 non-null   object \n",
            " 69  classy                      1133 non-null   object \n",
            " 70  casual                      1147 non-null   object \n",
            " 71  garage                      1251 non-null   object \n",
            " 72  street                      1255 non-null   object \n",
            " 73  validated                   1254 non-null   object \n",
            " 74  lot                         1256 non-null   object \n",
            " 75  valet                       1263 non-null   object \n",
            "dtypes: float64(3), int64(3), object(70)\n",
            "memory usage: 920.4+ KB\n"
          ],
          "name": "stdout"
        }
      ]
    },
    {
      "cell_type": "code",
      "metadata": {
        "id": "Gq7uKt9LaLVu"
      },
      "source": [
        "drop_cols = ['AcceptsInsurance', 'AgesAllowed', 'DietaryRestrictions', 'BYOBCorkage', 'Corkage', 'BYOB']\r\n",
        "business.drop(drop_cols, axis=1, inplace=True)"
      ],
      "execution_count": null,
      "outputs": []
    },
    {
      "cell_type": "markdown",
      "metadata": {
        "id": "FdtQm3eE2Q4k"
      },
      "source": [
        "##### Check the new attributes which were added during flattening\r\n",
        "Check string and float columns which might need a conversion to boolean"
      ]
    },
    {
      "cell_type": "code",
      "metadata": {
        "colab": {
          "base_uri": "https://localhost:8080/"
        },
        "id": "JZPyiamt3haw",
        "outputId": "20244015-7b2e-44fe-fb5d-bc698b60948b"
      },
      "source": [
        "print('string:')\r\n",
        "for col in business.columns:\r\n",
        "    if isinstance(business[col][0], str):\r\n",
        "        print(col)\r\n",
        "print()\r\n",
        "print('float:')\r\n",
        "for col in business.columns:\r\n",
        "    if isinstance(business[col][0], float):\r\n",
        "        print(col)"
      ],
      "execution_count": null,
      "outputs": [
        {
          "output_type": "stream",
          "text": [
            "string:\n",
            "business_id\n",
            "name\n",
            "address\n",
            "city\n",
            "state\n",
            "postal_code\n",
            "categories\n",
            "region\n",
            "business_type\n",
            "veggy\n",
            "RestaurantsDelivery\n",
            "Caters\n",
            "RestaurantsTakeOut\n",
            "WheelchairAccessible\n",
            "RestaurantsTableService\n",
            "WiFi\n",
            "OutdoorSeating\n",
            "HasTV\n",
            "Alcohol\n",
            "BikeParking\n",
            "BusinessAcceptsCreditCards\n",
            "Sunday\n",
            "Saturday\n",
            "Friday\n",
            "Thursday\n",
            "Wednesday\n",
            "Monday\n",
            "\n",
            "float:\n",
            "latitude\n",
            "longitude\n",
            "stars\n",
            "ByAppointmentOnly\n",
            "BusinessAcceptsBitcoin\n",
            "DogsAllowed\n",
            "DriveThru\n",
            "BestNights\n",
            "Smoking\n",
            "Music\n",
            "GoodForDancing\n",
            "CoatCheck\n",
            "HappyHour\n",
            "RestaurantsGoodForGroups\n",
            "RestaurantsReservations\n",
            "RestaurantsPriceRange2\n",
            "RestaurantsAttire\n",
            "NoiseLevel\n",
            "GoodForKids\n",
            "Tuesday\n",
            "garage\n",
            "street\n",
            "validated\n",
            "lot\n",
            "valet\n"
          ],
          "name": "stdout"
        }
      ]
    },
    {
      "cell_type": "code",
      "metadata": {
        "id": "X3E5k3Ti5N_B"
      },
      "source": [
        "str_bool = ['RestaurantsDelivery', 'Caters', 'RestaurantsTakeOut', 'WheelchairAccessible',\r\n",
        "            'RestaurantsTableService', 'OutdoorSeating', 'HasTV', 'BikeParking', 'BusinessAcceptsCreditCards']\r\n",
        "for col in str_bool:\r\n",
        "    business[col] = business[col].apply(lambda x: bool(strtobool(str(x))) if x in ['True', 'False'] else None)\r\n",
        "# also keep track of the additional columns which are boolean by nature\r\n",
        "float_bool = ['ByAppointmentOnly', 'BusinessAcceptsBitcoin', 'DogsAllowed', 'DriveThru', 'GoodForDancing', 'CoatCheck',\r\n",
        "            'HappyHour', 'RestaurantsGoodForGroups', 'RestaurantsReservations', 'GoodForKids',\r\n",
        "            'garage', 'street', 'validated', 'lot', 'valet']\r\n"
      ],
      "execution_count": null,
      "outputs": []
    },
    {
      "cell_type": "markdown",
      "metadata": {
        "id": "C4HtofdXe1fe"
      },
      "source": [
        "#### drop the \"not-so-interesting\" boolean columns having less than 100 True values"
      ]
    },
    {
      "cell_type": "code",
      "metadata": {
        "colab": {
          "base_uri": "https://localhost:8080/"
        },
        "id": "O38ATPC0OCnF",
        "outputId": "71c17e96-99ea-40f4-8ff9-fc4be87ded04"
      },
      "source": [
        "val_count = business[str_bool].apply(pd.Series.value_counts).T[True]\r\n",
        "drop_cols = val_count.index[val_count<100].to_list()\r\n",
        "val_count = business[float_bool].apply(pd.Series.value_counts).T['True']\r\n",
        "drop_cols = drop_cols + val_count.index[val_count<100].to_list()\r\n",
        "drop_cols"
      ],
      "execution_count": null,
      "outputs": [
        {
          "output_type": "execute_result",
          "data": {
            "text/plain": [
              "['ByAppointmentOnly',\n",
              " 'BusinessAcceptsBitcoin',\n",
              " 'DogsAllowed',\n",
              " 'DriveThru',\n",
              " 'GoodForDancing',\n",
              " 'CoatCheck']"
            ]
          },
          "metadata": {
            "tags": []
          },
          "execution_count": 267
        }
      ]
    },
    {
      "cell_type": "code",
      "metadata": {
        "id": "a4Q2mvLVgYrf"
      },
      "source": [
        "# drop these columns\r\n",
        "business.drop(drop_cols, axis=1, inplace=True)\r\n",
        "business.drop('index', axis=1, inplace=True)"
      ],
      "execution_count": null,
      "outputs": []
    },
    {
      "cell_type": "markdown",
      "metadata": {
        "id": "N3AyrgQlNXsj"
      },
      "source": [
        "##### Clean redundant quotes\r\n",
        "for example, let's look at WiFi"
      ]
    },
    {
      "cell_type": "code",
      "metadata": {
        "colab": {
          "base_uri": "https://localhost:8080/"
        },
        "id": "_Qn73tYL7_ru",
        "outputId": "45b26826-7b99-4ebb-bc0b-d8c48a90a466"
      },
      "source": [
        "business.WiFi.value_counts()"
      ],
      "execution_count": null,
      "outputs": [
        {
          "output_type": "execute_result",
          "data": {
            "text/plain": [
              "free'     381\n",
              "no'       317\n",
              "'no'      157\n",
              "'free'    133\n",
              "paid'       7\n",
              "'paid'      3\n",
              "None        1\n",
              "Name: WiFi, dtype: int64"
            ]
          },
          "metadata": {
            "tags": []
          },
          "execution_count": 269
        }
      ]
    },
    {
      "cell_type": "code",
      "metadata": {
        "colab": {
          "base_uri": "https://localhost:8080/"
        },
        "id": "OzYLBIx1IDJp",
        "outputId": "9cbc2a6e-b75a-4fd3-fa25-a12946c9a7e8"
      },
      "source": [
        "for col in ['WiFi', 'Alcohol', 'Smoking', 'RestaurantsAttire', 'NoiseLevel']:\r\n",
        "    business[col] = business[col].str.replace(\"\\'\", \"\")\r\n",
        "\r\n",
        "business.WiFi.value_counts()"
      ],
      "execution_count": null,
      "outputs": [
        {
          "output_type": "execute_result",
          "data": {
            "text/plain": [
              "free    514\n",
              "no      474\n",
              "paid     10\n",
              "None      1\n",
              "Name: WiFi, dtype: int64"
            ]
          },
          "metadata": {
            "tags": []
          },
          "execution_count": 270
        }
      ]
    },
    {
      "cell_type": "markdown",
      "metadata": {
        "id": "qVmJ7wgmx5OG"
      },
      "source": [
        "## Explore business activity"
      ]
    },
    {
      "cell_type": "markdown",
      "metadata": {
        "id": "FGUrtZsfEw_f"
      },
      "source": [
        "#### Open businesses during week days"
      ]
    },
    {
      "cell_type": "code",
      "metadata": {
        "colab": {
          "base_uri": "https://localhost:8080/",
          "height": 202
        },
        "id": "3wns5z30gUqC",
        "outputId": "708725ee-804a-4b8a-bbfe-730bb7a26645"
      },
      "source": [
        "weekdays=['Monday', 'Tuesday', 'Wednesday', 'Thursday', 'Friday', 'Saturday', 'Sunday']\r\n",
        "business.loc[business.is_open == 1, weekdays].head()"
      ],
      "execution_count": null,
      "outputs": [
        {
          "output_type": "execute_result",
          "data": {
            "text/html": [
              "<div>\n",
              "<style scoped>\n",
              "    .dataframe tbody tr th:only-of-type {\n",
              "        vertical-align: middle;\n",
              "    }\n",
              "\n",
              "    .dataframe tbody tr th {\n",
              "        vertical-align: top;\n",
              "    }\n",
              "\n",
              "    .dataframe thead th {\n",
              "        text-align: right;\n",
              "    }\n",
              "</style>\n",
              "<table border=\"1\" class=\"dataframe\">\n",
              "  <thead>\n",
              "    <tr style=\"text-align: right;\">\n",
              "      <th></th>\n",
              "      <th>Monday</th>\n",
              "      <th>Tuesday</th>\n",
              "      <th>Wednesday</th>\n",
              "      <th>Thursday</th>\n",
              "      <th>Friday</th>\n",
              "      <th>Saturday</th>\n",
              "      <th>Sunday</th>\n",
              "    </tr>\n",
              "  </thead>\n",
              "  <tbody>\n",
              "    <tr>\n",
              "      <th>0</th>\n",
              "      <td>11:0-20:0</td>\n",
              "      <td>NaN</td>\n",
              "      <td>11:0-20:0</td>\n",
              "      <td>11:0-20:0</td>\n",
              "      <td>11:0-20:0</td>\n",
              "      <td>11:0-20:0</td>\n",
              "      <td>11:0-20:0</td>\n",
              "    </tr>\n",
              "    <tr>\n",
              "      <th>1</th>\n",
              "      <td>10:0-3:0</td>\n",
              "      <td>10:0-3:0</td>\n",
              "      <td>10:0-3:0</td>\n",
              "      <td>10:0-3:0</td>\n",
              "      <td>10:0-3:0</td>\n",
              "      <td>10:0-3:0</td>\n",
              "      <td>10:0-3:0</td>\n",
              "    </tr>\n",
              "    <tr>\n",
              "      <th>2</th>\n",
              "      <td>NaN</td>\n",
              "      <td>NaN</td>\n",
              "      <td>NaN</td>\n",
              "      <td>NaN</td>\n",
              "      <td>NaN</td>\n",
              "      <td>NaN</td>\n",
              "      <td>NaN</td>\n",
              "    </tr>\n",
              "    <tr>\n",
              "      <th>4</th>\n",
              "      <td>NaN</td>\n",
              "      <td>NaN</td>\n",
              "      <td>NaN</td>\n",
              "      <td>NaN</td>\n",
              "      <td>NaN</td>\n",
              "      <td>NaN</td>\n",
              "      <td>NaN</td>\n",
              "    </tr>\n",
              "    <tr>\n",
              "      <th>8</th>\n",
              "      <td>7:0-15:0</td>\n",
              "      <td>7:0-15:0</td>\n",
              "      <td>7:0-15:0</td>\n",
              "      <td>7:0-15:0</td>\n",
              "      <td>7:0-15:0</td>\n",
              "      <td>NaN</td>\n",
              "      <td>NaN</td>\n",
              "    </tr>\n",
              "  </tbody>\n",
              "</table>\n",
              "</div>"
            ],
            "text/plain": [
              "      Monday   Tuesday  Wednesday   Thursday     Friday   Saturday     Sunday\n",
              "0  11:0-20:0       NaN  11:0-20:0  11:0-20:0  11:0-20:0  11:0-20:0  11:0-20:0\n",
              "1   10:0-3:0  10:0-3:0   10:0-3:0   10:0-3:0   10:0-3:0   10:0-3:0   10:0-3:0\n",
              "2        NaN       NaN        NaN        NaN        NaN        NaN        NaN\n",
              "4        NaN       NaN        NaN        NaN        NaN        NaN        NaN\n",
              "8   7:0-15:0  7:0-15:0   7:0-15:0   7:0-15:0   7:0-15:0        NaN        NaN"
            ]
          },
          "metadata": {
            "tags": []
          },
          "execution_count": 316
        }
      ]
    },
    {
      "cell_type": "markdown",
      "metadata": {
        "id": "NPIEOlMPu-X9"
      },
      "source": [
        "* Cleanse the opening-hours columns\r\n",
        "* Filter out closed businesses\r\n",
        "* Check on which days businesses are open"
      ]
    },
    {
      "cell_type": "code",
      "metadata": {
        "colab": {
          "base_uri": "https://localhost:8080/",
          "height": 355
        },
        "id": "olWbRkNRidAr",
        "outputId": "acf5c54c-30e7-4c2f-db5e-0435a50acac5"
      },
      "source": [
        "business[weekdays] = business[weekdays].replace({'0:0-0:0':np.nan})\r\n",
        "opendays = business.loc[business.is_open == 1, weekdays].notnull()\r\n",
        "plt.title('Open businesses per day')\r\n",
        "opendays.T.sum(axis=1).plot(kind=\"bar\")"
      ],
      "execution_count": null,
      "outputs": [
        {
          "output_type": "execute_result",
          "data": {
            "text/plain": [
              "<matplotlib.axes._subplots.AxesSubplot at 0x7f2f79b26208>"
            ]
          },
          "metadata": {
            "tags": []
          },
          "execution_count": 309
        },
        {
          "output_type": "display_data",
          "data": {
            "image/png": "[encoded data removed]",
            "text/plain": [
              "<Figure size 432x288 with 1 Axes>"
            ]
          },
          "metadata": {
            "tags": []
          }
        }
      ]
    },
    {
      "cell_type": "markdown",
      "metadata": {
        "id": "0ALKrNOPHxg_"
      },
      "source": [
        "* Looks like Monday is the slowest day (off-time is Sun-Mon, not Sat-Sun) \r\n",
        "* Check out percentages, too: only ~ 62% of the open restaurants work on Mondays"
      ]
    },
    {
      "cell_type": "code",
      "metadata": {
        "colab": {
          "base_uri": "https://localhost:8080/",
          "height": 110
        },
        "id": "_HXV8T2GH24_",
        "outputId": "af07b2c7-b4ff-48c4-b90f-b202f5ce9c16"
      },
      "source": [
        "open_closed = opendays.replace([True, False], ['Open', 'Closed']) \r\n",
        "open_closed.apply(lambda x: x.value_counts(normalize=True))"
      ],
      "execution_count": null,
      "outputs": [
        {
          "output_type": "execute_result",
          "data": {
            "text/html": [
              "<div>\n",
              "<style scoped>\n",
              "    .dataframe tbody tr th:only-of-type {\n",
              "        vertical-align: middle;\n",
              "    }\n",
              "\n",
              "    .dataframe tbody tr th {\n",
              "        vertical-align: top;\n",
              "    }\n",
              "\n",
              "    .dataframe thead th {\n",
              "        text-align: right;\n",
              "    }\n",
              "</style>\n",
              "<table border=\"1\" class=\"dataframe\">\n",
              "  <thead>\n",
              "    <tr style=\"text-align: right;\">\n",
              "      <th></th>\n",
              "      <th>Monday</th>\n",
              "      <th>Tuesday</th>\n",
              "      <th>Wednesday</th>\n",
              "      <th>Thursday</th>\n",
              "      <th>Friday</th>\n",
              "      <th>Saturday</th>\n",
              "      <th>Sunday</th>\n",
              "    </tr>\n",
              "  </thead>\n",
              "  <tbody>\n",
              "    <tr>\n",
              "      <th>Open</th>\n",
              "      <td>0.619535</td>\n",
              "      <td>0.763721</td>\n",
              "      <td>0.784186</td>\n",
              "      <td>0.776744</td>\n",
              "      <td>0.786977</td>\n",
              "      <td>0.746977</td>\n",
              "      <td>0.633488</td>\n",
              "    </tr>\n",
              "    <tr>\n",
              "      <th>Closed</th>\n",
              "      <td>0.380465</td>\n",
              "      <td>0.236279</td>\n",
              "      <td>0.215814</td>\n",
              "      <td>0.223256</td>\n",
              "      <td>0.213023</td>\n",
              "      <td>0.253023</td>\n",
              "      <td>0.366512</td>\n",
              "    </tr>\n",
              "  </tbody>\n",
              "</table>\n",
              "</div>"
            ],
            "text/plain": [
              "          Monday   Tuesday  Wednesday  Thursday    Friday  Saturday    Sunday\n",
              "Open    0.619535  0.763721   0.784186  0.776744  0.786977  0.746977  0.633488\n",
              "Closed  0.380465  0.236279   0.215814  0.223256  0.213023  0.253023  0.366512"
            ]
          },
          "metadata": {
            "tags": []
          },
          "execution_count": 314
        }
      ]
    },
    {
      "cell_type": "markdown",
      "metadata": {
        "id": "G71pDrgX397h"
      },
      "source": [
        "### Explore the categories"
      ]
    },
    {
      "cell_type": "markdown",
      "metadata": {
        "id": "pt4-gKfD0_8g"
      },
      "source": [
        "## Users"
      ]
    },
    {
      "cell_type": "code",
      "metadata": {
        "colab": {
          "base_uri": "https://localhost:8080/",
          "height": 202
        },
        "id": "jax5hoQ4olfX",
        "outputId": "ae1f626d-a023-426f-bbab-247a85c132cc"
      },
      "source": [
        "elite_years = user.elite.str.split(',', expand=True)\r\n",
        "elite_years.head()"
      ],
      "execution_count": null,
      "outputs": [
        {
          "output_type": "execute_result",
          "data": {
            "text/html": [
              "<div>\n",
              "<style scoped>\n",
              "    .dataframe tbody tr th:only-of-type {\n",
              "        vertical-align: middle;\n",
              "    }\n",
              "\n",
              "    .dataframe tbody tr th {\n",
              "        vertical-align: top;\n",
              "    }\n",
              "\n",
              "    .dataframe thead th {\n",
              "        text-align: right;\n",
              "    }\n",
              "</style>\n",
              "<table border=\"1\" class=\"dataframe\">\n",
              "  <thead>\n",
              "    <tr style=\"text-align: right;\">\n",
              "      <th></th>\n",
              "      <th>0</th>\n",
              "      <th>1</th>\n",
              "      <th>2</th>\n",
              "      <th>3</th>\n",
              "      <th>4</th>\n",
              "      <th>5</th>\n",
              "      <th>6</th>\n",
              "      <th>7</th>\n",
              "      <th>8</th>\n",
              "      <th>9</th>\n",
              "      <th>10</th>\n",
              "      <th>11</th>\n",
              "      <th>12</th>\n",
              "    </tr>\n",
              "  </thead>\n",
              "  <tbody>\n",
              "    <tr>\n",
              "      <th>116</th>\n",
              "      <td>2011</td>\n",
              "      <td>None</td>\n",
              "      <td>None</td>\n",
              "      <td>None</td>\n",
              "      <td>None</td>\n",
              "      <td>None</td>\n",
              "      <td>None</td>\n",
              "      <td>None</td>\n",
              "      <td>None</td>\n",
              "      <td>None</td>\n",
              "      <td>None</td>\n",
              "      <td>None</td>\n",
              "      <td>None</td>\n",
              "    </tr>\n",
              "    <tr>\n",
              "      <th>407</th>\n",
              "      <td>2012</td>\n",
              "      <td>2013</td>\n",
              "      <td>2014</td>\n",
              "      <td>2015</td>\n",
              "      <td>2016</td>\n",
              "      <td>2017</td>\n",
              "      <td>2018</td>\n",
              "      <td>None</td>\n",
              "      <td>None</td>\n",
              "      <td>None</td>\n",
              "      <td>None</td>\n",
              "      <td>None</td>\n",
              "      <td>None</td>\n",
              "    </tr>\n",
              "    <tr>\n",
              "      <th>732</th>\n",
              "      <td>2010</td>\n",
              "      <td>2011</td>\n",
              "      <td>2012</td>\n",
              "      <td>2013</td>\n",
              "      <td>2014</td>\n",
              "      <td>2015</td>\n",
              "      <td>2016</td>\n",
              "      <td>2017</td>\n",
              "      <td>2018</td>\n",
              "      <td>None</td>\n",
              "      <td>None</td>\n",
              "      <td>None</td>\n",
              "      <td>None</td>\n",
              "    </tr>\n",
              "    <tr>\n",
              "      <th>830</th>\n",
              "      <td>2014</td>\n",
              "      <td>2015</td>\n",
              "      <td>2016</td>\n",
              "      <td>2017</td>\n",
              "      <td>2018</td>\n",
              "      <td>None</td>\n",
              "      <td>None</td>\n",
              "      <td>None</td>\n",
              "      <td>None</td>\n",
              "      <td>None</td>\n",
              "      <td>None</td>\n",
              "      <td>None</td>\n",
              "      <td>None</td>\n",
              "    </tr>\n",
              "    <tr>\n",
              "      <th>851</th>\n",
              "      <td>2007</td>\n",
              "      <td>2008</td>\n",
              "      <td>2009</td>\n",
              "      <td>2010</td>\n",
              "      <td>2011</td>\n",
              "      <td>2012</td>\n",
              "      <td>2013</td>\n",
              "      <td>2014</td>\n",
              "      <td>2015</td>\n",
              "      <td>2016</td>\n",
              "      <td>2017</td>\n",
              "      <td>2018</td>\n",
              "      <td>None</td>\n",
              "    </tr>\n",
              "  </tbody>\n",
              "</table>\n",
              "</div>"
            ],
            "text/plain": [
              "       0     1     2     3     4     5   ...    7     8     9     10    11    12\n",
              "116  2011  None  None  None  None  None  ...  None  None  None  None  None  None\n",
              "407  2012  2013  2014  2015  2016  2017  ...  None  None  None  None  None  None\n",
              "732  2010  2011  2012  2013  2014  2015  ...  2017  2018  None  None  None  None\n",
              "830  2014  2015  2016  2017  2018  None  ...  None  None  None  None  None  None\n",
              "851  2007  2008  2009  2010  2011  2012  ...  2014  2015  2016  2017  2018  None\n",
              "\n",
              "[5 rows x 13 columns]"
            ]
          },
          "metadata": {
            "tags": []
          },
          "execution_count": 274
        }
      ]
    },
    {
      "cell_type": "code",
      "metadata": {
        "colab": {
          "base_uri": "https://localhost:8080/"
        },
        "id": "d6mn9kWXpZUB",
        "outputId": "eef56f3f-d229-49c4-cfcb-8f7f675a0b2a"
      },
      "source": [
        "elite_count = user.elite.str.split(',\\d+', expand=True).stack().value_counts()\r\n",
        "elite_count"
      ],
      "execution_count": null,
      "outputs": [
        {
          "output_type": "execute_result",
          "data": {
            "text/plain": [
              "        15502\n",
              "2018      515\n",
              "2017      305\n",
              "2016      193\n",
              "2015      155\n",
              "2014       82\n",
              "2012       57\n",
              "2011       44\n",
              "2013       42\n",
              "2010       31\n",
              "2009       14\n",
              "2007        7\n",
              "2008        4\n",
              "2006        2\n",
              "dtype: int64"
            ]
          },
          "metadata": {
            "tags": []
          },
          "execution_count": 275
        }
      ]
    },
    {
      "cell_type": "code",
      "metadata": {
        "colab": {
          "base_uri": "https://localhost:8080/"
        },
        "id": "8EREB5niqnsI",
        "outputId": "ca4be1d8-5ad7-4372-b76e-c1b3159159fb"
      },
      "source": [
        "user['elite_2018'] = np.where(user.elite.str.contains('2018'), True, False)\r\n",
        "user.elite_2018.value_counts()"
      ],
      "execution_count": null,
      "outputs": [
        {
          "output_type": "execute_result",
          "data": {
            "text/plain": [
              "False    13324\n",
              "True      1276\n",
              "Name: elite_2018, dtype: int64"
            ]
          },
          "metadata": {
            "tags": []
          },
          "execution_count": 276
        }
      ]
    },
    {
      "cell_type": "markdown",
      "metadata": {
        "id": "XFGe5H0J1Oqo"
      },
      "source": [
        "## Reviews"
      ]
    },
    {
      "cell_type": "code",
      "metadata": {
        "colab": {
          "base_uri": "https://localhost:8080/"
        },
        "id": "Y6L2ipUokOq4",
        "outputId": "dff83675-e366-4bf8-d940-86c72a162a8c"
      },
      "source": [
        "pd.to_datetime(review.date).dt.to_period('Y').value_counts()"
      ],
      "execution_count": null,
      "outputs": [
        {
          "output_type": "execute_result",
          "data": {
            "text/plain": [
              "2018    14408\n",
              "2019    12720\n",
              "Freq: A-DEC, Name: date, dtype: int64"
            ]
          },
          "metadata": {
            "tags": []
          },
          "execution_count": 277
        }
      ]
    },
    {
      "cell_type": "code",
      "metadata": {
        "colab": {
          "base_uri": "https://localhost:8080/"
        },
        "id": "loXJrtC0nTlH",
        "outputId": "634049d4-794a-4f96-bc4d-06514699202f"
      },
      "source": [
        "max(pd.to_datetime(review.date))"
      ],
      "execution_count": null,
      "outputs": [
        {
          "output_type": "execute_result",
          "data": {
            "text/plain": [
              "Timestamp('2019-12-13 15:35:41')"
            ]
          },
          "metadata": {
            "tags": []
          },
          "execution_count": 278
        }
      ]
    },
    {
      "cell_type": "code",
      "metadata": {
        "colab": {
          "base_uri": "https://localhost:8080/"
        },
        "id": "Yp2d0YdQnr28",
        "outputId": "c388a313-dda7-4b43-f7a7-5b405880720c"
      },
      "source": [
        "len(review)"
      ],
      "execution_count": null,
      "outputs": [
        {
          "output_type": "execute_result",
          "data": {
            "text/plain": [
              "27128"
            ]
          },
          "metadata": {
            "tags": []
          },
          "execution_count": 279
        }
      ]
    },
    {
      "cell_type": "code",
      "metadata": {
        "colab": {
          "base_uri": "https://localhost:8080/"
        },
        "id": "cNO9E504oBXT",
        "outputId": "590bec4a-cadb-4ecc-a8c7-304775b2b3a9"
      },
      "source": [
        "len(review[pd.to_datetime(review.date).dt.to_period('Y').astype(str).astype(int) >= 2018])"
      ],
      "execution_count": null,
      "outputs": [
        {
          "output_type": "execute_result",
          "data": {
            "text/plain": [
              "27128"
            ]
          },
          "metadata": {
            "tags": []
          },
          "execution_count": 280
        }
      ]
    },
    {
      "cell_type": "markdown",
      "metadata": {
        "id": "q6rlXcCaruVV"
      },
      "source": [
        "## Questions & Ideas\r\n",
        "* Intro\r\n",
        "    * businesses, checkins, reviews, users intro (head, info, missing)\r\n",
        "    * look at categorical cols - describe, ranges\r\n",
        "    * look at numerical cols - value_counts, ranges\r\n",
        "* How many restaurants and users? (histogram)\r\n",
        "    * Does it change over time? (plot)\r\n",
        "* how are the restaurants categories distributed?\r\n",
        "    * Who are the top restaurants in each category?\r\n",
        "* How many reviews do businesses have? how many by one user?\r\n",
        "* investigate specific businesses (per category and best/worse)\r\n",
        "    * attributes, ratings, reviews, and checkins over time, top words\r\n",
        "* Categories and attributes deeper look\r\n",
        "    * Which categories and attributes have higher rating, checkins, # reviews ? (plot, group/bins, corr crosstab, heat map, cluster map)\r\n",
        "    * Which categories and businesses are trending +/- or new? (checkins, stars, # reviews, open/close)\r\n",
        "* Openning/closing restaurants\r\n",
        "    * How many businesses are open and closed? what is the trend?\r\n",
        "    * Validate there are no reviews and checkins for closed restaurants\r\n",
        "    * Do restaurants before closure have less stars? checkins and reviews?\r\n",
        "* Which restaurant is the best for me?\r\n",
        "* How many elite, active, inactive users are there?\r\n",
        "    * Do elite status users, with many friends and compliments, rate differently?\r\n",
        "    * Do friends have similar categories preferences and rating?\r\n",
        "    * Do successful restaurants have more or less useful reviews?"
      ]
    },
    {
      "cell_type": "code",
      "metadata": {
        "colab": {
          "base_uri": "https://localhost:8080/"
        },
        "id": "8Vo4wsX-BpEm",
        "outputId": "9798a9cb-2451-4ccb-c2ff-b62e16214f98"
      },
      "source": [
        "%cd '/content/mnt/My Drive/uploads'"
      ],
      "execution_count": null,
      "outputs": [
        {
          "output_type": "stream",
          "text": [
            "/content/mnt/My Drive/uploads\n"
          ],
          "name": "stdout"
        }
      ]
    }
  ]
}